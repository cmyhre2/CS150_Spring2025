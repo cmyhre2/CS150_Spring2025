{
  "cells": [
    {
      "cell_type": "markdown",
      "metadata": {
        "id": "view-in-github",
        "colab_type": "text"
      },
      "source": [
        "<a href=\"https://colab.research.google.com/github/cmyhre2/CS150_Spring2025/blob/Class-Notebooks/Chapter3ClassNB.ipynb\" target=\"_parent\"><img src=\"https://colab.research.google.com/assets/colab-badge.svg\" alt=\"Open In Colab\"/></a>"
      ]
    },
    {
      "cell_type": "markdown",
      "id": "54f8051d",
      "metadata": {
        "id": "54f8051d"
      },
      "source": [
        "## What We Looked At Recently\n",
        "* We looked at basic operations in Python like the **print** function.\n",
        "* We explained what **variables** are in programming.\n",
        "* We looked at basic data types in Python such as **strings**."
      ]
    },
    {
      "cell_type": "markdown",
      "id": "06d31007",
      "metadata": {
        "id": "06d31007"
      },
      "source": [
        "## What We'll Look At In This Module\n",
        "* This module introduces **lists**, which are a pivotal collection structure in Python.\n",
        "* In addition, some important terminology in Python is clarified, including with regards to **functions** and **methods**.\n"
      ]
    },
    {
      "cell_type": "markdown",
      "id": "5ed5639e",
      "metadata": {
        "id": "5ed5639e"
      },
      "source": [
        "## Limitations of Atomic Data Types\n",
        "\n",
        "So far we have seen variables being used to represent _atomic_ elements (a single string, single number, etc.)<br>\n",
        "But suppose a teacher needs to store a large number of student grades.\n"
      ]
    },
    {
      "cell_type": "code",
      "execution_count": null,
      "id": "728dbf8f",
      "metadata": {
        "id": "728dbf8f"
      },
      "outputs": [],
      "source": [
        "student1_grade = 92\n",
        "student2_grade = 81\n",
        "student3_grade = 74\n",
        "#student4_grade = ...\n"
      ]
    },
    {
      "cell_type": "markdown",
      "id": "3883120e",
      "metadata": {
        "id": "3883120e"
      },
      "source": [
        "## Collection Structures\n",
        "* Python provides us with a number of built-in **collection** structures, which are used specifically to manage a number of related elements.  \n",
        "* We first take a look at an elementary collection structure called the **list**.  \n",
        "* Later we will take a look at _Tuples_, _Sets_, and _Dictionaries_, which are distinct collection structures with their own qualities."
      ]
    },
    {
      "cell_type": "code",
      "execution_count": null,
      "id": "3182ea9d",
      "metadata": {
        "colab": {
          "base_uri": "https://localhost:8080/"
        },
        "id": "3182ea9d",
        "outputId": "370e3cb7-3e36-4c4b-c9da-efd29f6686c6"
      },
      "outputs": [
        {
          "output_type": "stream",
          "name": "stdout",
          "text": [
            "60\n",
            "88\n"
          ]
        }
      ],
      "source": [
        "#In general, working with a single variable that references a collection is easier than separate variables.\n",
        "student_grades = [92, 81, 74, 60, 44, 89, 88, 96, 78, 74]\n",
        "print(student_grades[3])\n",
        "print(student_grades[6])"
      ]
    },
    {
      "cell_type": "markdown",
      "id": "917b554d",
      "metadata": {
        "id": "917b554d"
      },
      "source": [
        "* The standard way to construct lists is by using **square brackets**.\n",
        "\n",
        "![image.png](attachment:image.png)"
      ]
    },
    {
      "cell_type": "code",
      "execution_count": null,
      "id": "92cc7449",
      "metadata": {
        "colab": {
          "base_uri": "https://localhost:8080/"
        },
        "id": "92cc7449",
        "outputId": "f2b402fd-62e2-4c29-9eda-f428c29dcad9"
      },
      "outputs": [
        {
          "output_type": "stream",
          "name": "stdout",
          "text": [
            "P\n"
          ]
        }
      ],
      "source": [
        "mylist = ['P','R','O','G','R','A','M','M','I','N','G']\n",
        "#Python uses zero-based indexing, which means the initial element in the list (P) may be referenced using an index of 0.\n",
        "print(mylist[0])"
      ]
    },
    {
      "cell_type": "markdown",
      "id": "e426b40c",
      "metadata": {
        "id": "e426b40c"
      },
      "source": [
        "### Lists do not have to contain a uniform data type. The example below contains a string, a character, and a number."
      ]
    },
    {
      "cell_type": "code",
      "execution_count": null,
      "id": "f568d4e3",
      "metadata": {
        "id": "f568d4e3"
      },
      "outputs": [],
      "source": [
        "mylist2 = ['Home',4,'R']"
      ]
    },
    {
      "cell_type": "markdown",
      "id": "7bb8f9d5",
      "metadata": {
        "id": "7bb8f9d5"
      },
      "source": [
        "### List elements are often used within other expressions."
      ]
    },
    {
      "cell_type": "code",
      "execution_count": null,
      "id": "c7ae9223",
      "metadata": {
        "id": "c7ae9223"
      },
      "outputs": [],
      "source": [
        "item_prices = [11, 1, 9]; item_names = ['hammers','drill bits', 'wrench']"
      ]
    },
    {
      "cell_type": "code",
      "execution_count": null,
      "id": "93e78a79",
      "metadata": {
        "colab": {
          "base_uri": "https://localhost:8080/"
        },
        "id": "93e78a79",
        "outputId": "2e124708-41b2-4ec5-eda9-2c5fff7abca9"
      },
      "outputs": [
        {
          "output_type": "stream",
          "name": "stdout",
          "text": [
            "Buying 20 drill bits will cost you about $11111111111111111111\n"
          ]
        }
      ],
      "source": [
        "#The following expression may be a bit overwhelming -- let's walk through it!\n",
        "print('Buying 20 ' + str(item_names[1]) + ' will cost you about $' + str(item_prices[1])*20)"
      ]
    },
    {
      "cell_type": "markdown",
      "id": "54ab0a73",
      "metadata": {
        "id": "54ab0a73"
      },
      "source": [
        "## Practice 1: Acquaintances\n",
        "* Store the names of three people you know in a list called _names_.\n",
        "* Create a second list called _yearsknown_ which includes the number of years you have known each person in _names_.\n",
        "* Using one print statement per person, display a sentence of the form \"I have known _____ for _____ years.\"\n"
      ]
    },
    {
      "cell_type": "code",
      "execution_count": null,
      "id": "9598bd68",
      "metadata": {
        "id": "9598bd68"
      },
      "outputs": [],
      "source": [
        "names = ['Johny', 'Jane', 'Jack']"
      ]
    },
    {
      "cell_type": "code",
      "execution_count": null,
      "id": "ab0581d6",
      "metadata": {
        "id": "ab0581d6"
      },
      "outputs": [],
      "source": [
        "yearsknown = [1, 2, 3]"
      ]
    },
    {
      "cell_type": "markdown",
      "id": "6c4b12db",
      "metadata": {
        "id": "6c4b12db"
      },
      "source": [
        "## A Side Note: Functions and Methods\n",
        "Thus far, we have interchangeably used terms like \"operation\", \"function\", and \"method\".  It's time to clarify the definition of a few of these things.\n",
        "* A **function** is a set of statements that perform a specific task.  It _may_ take **input arguments** (something being used to perform the task) and it _may_ provide **output arguments** (usable results of the task).  It is invoked without a preceding reference/variable.\n",
        "* A **method** is a function that is **explicitly associated with a Python object.** It must be invoked with a preceding reference/variable using the **.** symbol.\n",
        "* An **operation** refers to _any_ of the following: ii. using a function iii. using a method iii. a calculation using a standard operator like **+**, **-**, etc.\n",
        "* Later we will write our own functions (and possibly methods), but for now these definitions should be good enough to keep us on track."
      ]
    },
    {
      "cell_type": "code",
      "execution_count": null,
      "id": "5aa080f5",
      "metadata": {
        "colab": {
          "base_uri": "https://localhost:8080/"
        },
        "id": "5aa080f5",
        "outputId": "c05aea4e-ab74-4f97-9436-e831ec61bacb"
      },
      "outputs": [
        {
          "output_type": "stream",
          "name": "stdout",
          "text": [
            "Hello world!\n"
          ]
        }
      ],
      "source": [
        "#print is a FUNCTION we are quite familiar with by now.\n",
        "mystr = 'Hello world!'\n",
        "print(mystr)"
      ]
    },
    {
      "cell_type": "code",
      "execution_count": null,
      "id": "697dbd94",
      "metadata": {
        "colab": {
          "base_uri": "https://localhost:8080/"
        },
        "id": "697dbd94",
        "outputId": "0fa3e7b8-4217-46b6-abf6-a31f2b3456b1"
      },
      "outputs": [
        {
          "output_type": "stream",
          "name": "stdout",
          "text": [
            "HELLO WORLD!\n"
          ]
        }
      ],
      "source": [
        "#We previously saw several string METHODS, such as .upper()\n",
        "print(mystr.upper())"
      ]
    },
    {
      "cell_type": "code",
      "execution_count": null,
      "id": "9b31a752",
      "metadata": {
        "colab": {
          "base_uri": "https://localhost:8080/"
        },
        "id": "9b31a752",
        "outputId": "c7db3c44-4a25-400a-d912-abd2d01f787c"
      },
      "outputs": [
        {
          "output_type": "stream",
          "name": "stdout",
          "text": [
            "Hello world! How are you today?\n"
          ]
        }
      ],
      "source": [
        "#We've also seen several built-in operations that are neither function nor method, like concatenation using +\n",
        "mystr = mystr + ' How are you today?'\n",
        "print(mystr)"
      ]
    },
    {
      "cell_type": "markdown",
      "id": "0dd4e1c5",
      "metadata": {
        "id": "0dd4e1c5"
      },
      "source": [
        "## Changing, Adding, and Removing Elements"
      ]
    },
    {
      "cell_type": "markdown",
      "id": "935583f3",
      "metadata": {
        "id": "935583f3"
      },
      "source": [
        "### Single elements can be changed using  standard indexing"
      ]
    },
    {
      "cell_type": "code",
      "execution_count": null,
      "id": "bb8d603e",
      "metadata": {
        "colab": {
          "base_uri": "https://localhost:8080/"
        },
        "id": "bb8d603e",
        "outputId": "efa9b5b5-bf77-45dc-8d63-07919faeb208"
      },
      "outputs": [
        {
          "output_type": "stream",
          "name": "stdout",
          "text": [
            "[92, 81, 74, 60, 44, 89, 88, 96, 78, 74]\n"
          ]
        }
      ],
      "source": [
        "print(student_grades)"
      ]
    },
    {
      "cell_type": "code",
      "execution_count": null,
      "id": "5c0abaeb",
      "metadata": {
        "id": "5c0abaeb"
      },
      "outputs": [],
      "source": [
        "student_grades[2] = 72\n",
        "student_grades[-1] = 84"
      ]
    },
    {
      "cell_type": "code",
      "execution_count": null,
      "id": "0a4e22e1",
      "metadata": {
        "colab": {
          "base_uri": "https://localhost:8080/"
        },
        "id": "0a4e22e1",
        "outputId": "d4702432-739e-4c5c-83be-86a2ff81532d"
      },
      "outputs": [
        {
          "output_type": "stream",
          "name": "stdout",
          "text": [
            "[92, 81, 72, 60, 44, 89, 88, 96, 78, 84]\n"
          ]
        }
      ],
      "source": [
        "print(student_grades)"
      ]
    },
    {
      "cell_type": "markdown",
      "id": "39eb6e66",
      "metadata": {
        "id": "39eb6e66"
      },
      "source": [
        "### We can add to the end of the list using method `append`, which takes as an argument the item to add at the end.\n"
      ]
    },
    {
      "cell_type": "code",
      "execution_count": null,
      "id": "850152bf",
      "metadata": {
        "id": "850152bf"
      },
      "outputs": [],
      "source": [
        "student_grades.append(100)"
      ]
    },
    {
      "cell_type": "code",
      "execution_count": null,
      "id": "eda2f6e6",
      "metadata": {
        "id": "eda2f6e6"
      },
      "outputs": [],
      "source": []
    },
    {
      "cell_type": "markdown",
      "id": "20dec7a5",
      "metadata": {
        "id": "20dec7a5"
      },
      "source": [
        "### But we may also want to add in the middle of the list using method `insert`, which takes _two_ arguments: i. the first is the position at which to add the element ii. the second is the item to add."
      ]
    },
    {
      "cell_type": "code",
      "execution_count": null,
      "id": "2cf5b541",
      "metadata": {
        "id": "2cf5b541"
      },
      "outputs": [],
      "source": [
        "student_grades.insert(2, 80)"
      ]
    },
    {
      "cell_type": "code",
      "execution_count": null,
      "id": "42e565ff",
      "metadata": {
        "id": "42e565ff"
      },
      "outputs": [],
      "source": []
    },
    {
      "cell_type": "markdown",
      "id": "11eb2749",
      "metadata": {
        "id": "11eb2749"
      },
      "source": [
        "### We have several ways to remove elements from a List\n",
        "* `pop` is a method that removes the item at the **position** provided as an argument.\n",
        "* `remove` is a method that will remove the first instance that matches the **item** provided as an argument.\n",
        "* `del` is a _function_ that effectively deletes any given object in Python.  **Be careful with this one!**"
      ]
    },
    {
      "cell_type": "code",
      "execution_count": null,
      "id": "bb8ff977",
      "metadata": {
        "colab": {
          "base_uri": "https://localhost:8080/"
        },
        "id": "bb8ff977",
        "outputId": "522b1b27-ed73-41e9-94b0-e20a7664e061"
      },
      "outputs": [
        {
          "output_type": "execute_result",
          "data": {
            "text/plain": [
              "80"
            ]
          },
          "metadata": {},
          "execution_count": 17
        }
      ],
      "source": [
        "student_grades.pop(2)"
      ]
    },
    {
      "cell_type": "code",
      "execution_count": null,
      "id": "9b9e150f",
      "metadata": {
        "id": "9b9e150f"
      },
      "outputs": [],
      "source": [
        "student_grades.remove(84)"
      ]
    },
    {
      "cell_type": "code",
      "execution_count": null,
      "id": "408c2d44",
      "metadata": {
        "id": "408c2d44"
      },
      "outputs": [],
      "source": [
        "del student_grades[-1]"
      ]
    },
    {
      "cell_type": "code",
      "execution_count": null,
      "id": "2fda2438",
      "metadata": {
        "id": "2fda2438"
      },
      "outputs": [],
      "source": []
    },
    {
      "cell_type": "markdown",
      "id": "bf9341ea",
      "metadata": {
        "id": "bf9341ea"
      },
      "source": [
        "## Practice 2: Creating a Travel Wish List (part a)\n",
        "* Create an empty list called `travel_wishlist`.\n",
        "* Add three locations around the world you’d like to visit using `append`.\n",
        "* After they are all added, use three print statements to write out why you want to visit each one in turn.\n"
      ]
    },
    {
      "cell_type": "code",
      "execution_count": null,
      "id": "20b65ef6",
      "metadata": {
        "id": "20b65ef6"
      },
      "outputs": [],
      "source": [
        "travel_wishlist = []"
      ]
    },
    {
      "cell_type": "code",
      "execution_count": null,
      "id": "1f00caf4",
      "metadata": {
        "id": "1f00caf4"
      },
      "outputs": [],
      "source": [
        "travel_wishlist.append('New York')\n",
        "travel_wishlist.append('Paris')\n",
        "travel_wishlist.append('Tokyo')"
      ]
    },
    {
      "cell_type": "code",
      "execution_count": null,
      "id": "6d90942d",
      "metadata": {
        "colab": {
          "base_uri": "https://localhost:8080/"
        },
        "id": "6d90942d",
        "outputId": "eb19b004-1b4b-4387-ac36-004e834403f5"
      },
      "outputs": [
        {
          "output_type": "stream",
          "name": "stdout",
          "text": [
            "I would love to see New York for the views\n",
            "I would love to see Paris for the views\n",
            "I would love to see Tokyo for the views\n"
          ]
        }
      ],
      "source": [
        "print('I would love to see', travel_wishlist[0], 'for the views')\n",
        "print('I would love to see', travel_wishlist[1], 'for the views')\n",
        "print('I would love to see', travel_wishlist[2], 'for the views')"
      ]
    },
    {
      "cell_type": "markdown",
      "id": "83dc2b36",
      "metadata": {
        "id": "83dc2b36"
      },
      "source": [
        "### Changing the Wish List (part b)\n",
        "* Modify your list by replacing one of the locations with an alternative one (assume you have changed your mind about one)\n",
        "* Print a second set of messages.  For \"old\" locations on your list, indicate you still wish to visit them.  For the \"new\" location, indicate why you want to visit that one."
      ]
    },
    {
      "cell_type": "code",
      "execution_count": null,
      "id": "aafdfcac",
      "metadata": {
        "colab": {
          "base_uri": "https://localhost:8080/"
        },
        "id": "aafdfcac",
        "outputId": "6f96ec0a-b922-4832-8108-c6f89f9c82df"
      },
      "outputs": [
        {
          "output_type": "stream",
          "name": "stdout",
          "text": [
            "While I still want to see New York for the views\n",
            "I would love to see London for the views\n"
          ]
        }
      ],
      "source": [
        "print('While I still want to see', travel_wishlist[0], 'for the views')\n",
        "travel_wishlist[0] = 'London'\n",
        "print('I would love to see', travel_wishlist[0], 'for the views')"
      ]
    },
    {
      "cell_type": "code",
      "execution_count": null,
      "id": "8f5e7689",
      "metadata": {
        "id": "8f5e7689"
      },
      "outputs": [],
      "source": []
    },
    {
      "cell_type": "code",
      "execution_count": null,
      "id": "b3af8ab4",
      "metadata": {
        "id": "b3af8ab4"
      },
      "outputs": [],
      "source": []
    },
    {
      "cell_type": "markdown",
      "id": "15929f53",
      "metadata": {
        "id": "15929f53"
      },
      "source": [
        "### Emptying the Wish List (part c)\n",
        "* Use pop(), remove(), and del() (one time each!) to empty your wish list, indicating you have visited each place in turn.\n",
        "* NOTE: the order in which you use these commands may impact how to use them correctly!\n",
        "* Print the final list to verify it is empty as expected."
      ]
    },
    {
      "cell_type": "code",
      "execution_count": null,
      "id": "99c2cfd1",
      "metadata": {
        "id": "99c2cfd1"
      },
      "outputs": [],
      "source": [
        "del travel_wishlist[0]"
      ]
    },
    {
      "cell_type": "code",
      "execution_count": null,
      "id": "6f6a7c6b",
      "metadata": {
        "id": "6f6a7c6b"
      },
      "outputs": [],
      "source": [
        "travel_wishlist.remove('Paris')"
      ]
    },
    {
      "cell_type": "code",
      "execution_count": null,
      "id": "028117c4",
      "metadata": {
        "colab": {
          "base_uri": "https://localhost:8080/",
          "height": 35
        },
        "id": "028117c4",
        "outputId": "522da8ad-ee65-40b5-b5b1-d4c2a19d328c"
      },
      "outputs": [
        {
          "output_type": "execute_result",
          "data": {
            "text/plain": [
              "'Tokyo'"
            ],
            "application/vnd.google.colaboratory.intrinsic+json": {
              "type": "string"
            }
          },
          "metadata": {},
          "execution_count": 26
        }
      ],
      "source": [
        "travel_wishlist.pop()"
      ]
    },
    {
      "cell_type": "code",
      "execution_count": null,
      "id": "beb85022",
      "metadata": {
        "id": "beb85022"
      },
      "outputs": [],
      "source": []
    },
    {
      "cell_type": "markdown",
      "id": "6ead56a8",
      "metadata": {
        "id": "6ead56a8"
      },
      "source": [
        "### Mutable and Immutable Collections\n",
        "* Lists are **mutable**.  We can change a list object's elements after creation.\n",
        "* Many other Python data types -- such as the String, are **immutable**. If we want different elements, we must create a new string!"
      ]
    },
    {
      "cell_type": "code",
      "execution_count": null,
      "id": "fa035e73",
      "metadata": {
        "id": "fa035e73"
      },
      "outputs": [],
      "source": [
        "mynewlist = [10,2,30]\n",
        "mystring = 'hello'"
      ]
    },
    {
      "cell_type": "code",
      "execution_count": null,
      "id": "e62a95a1",
      "metadata": {
        "id": "e62a95a1"
      },
      "outputs": [],
      "source": []
    },
    {
      "cell_type": "code",
      "execution_count": null,
      "id": "933b8c67",
      "metadata": {
        "id": "933b8c67"
      },
      "outputs": [],
      "source": []
    },
    {
      "cell_type": "code",
      "execution_count": null,
      "id": "e56a00af",
      "metadata": {
        "id": "e56a00af"
      },
      "outputs": [],
      "source": []
    },
    {
      "cell_type": "markdown",
      "id": "e80f0468",
      "metadata": {
        "id": "e80f0468"
      },
      "source": [
        "### Appending to a List with `extend`\n",
        "* Lists can grow dynamically to accommodate multiple new items using the `extend` method.\n",
        "* When using `extend` in this context, the argument must itself be a collection we can iterate through.  Otherwise a `TypeError` occurs.\n"
      ]
    },
    {
      "cell_type": "code",
      "execution_count": null,
      "id": "e1b560de",
      "metadata": {
        "id": "e1b560de"
      },
      "outputs": [],
      "source": [
        "char_list = ['a','b','c']; num_list = [1, 2, 3]\n",
        "char_list.extend(num_list)\n"
      ]
    },
    {
      "cell_type": "markdown",
      "id": "8f82a01d",
      "metadata": {
        "id": "8f82a01d"
      },
      "source": [
        "## Practice 3: Merging a list of activities\n",
        "* Make a list of activities you want to do _this_ weekend.\n",
        "* Make a second list of activities you want to do _next_ weekend.\n",
        "* Use extend to combine your lists.\n",
        "* Print the combined list with a single print statement to verify the action worked correctly."
      ]
    },
    {
      "cell_type": "code",
      "execution_count": null,
      "id": "0c79d034",
      "metadata": {
        "id": "0c79d034"
      },
      "outputs": [],
      "source": [
        "activities1 = ['video games', 'board games','YouTube']"
      ]
    },
    {
      "cell_type": "code",
      "execution_count": null,
      "id": "a5dd685c",
      "metadata": {
        "id": "a5dd685c"
      },
      "outputs": [],
      "source": [
        "activities2 = ['hiking','gambling', 'skydiving']"
      ]
    },
    {
      "cell_type": "code",
      "execution_count": null,
      "id": "5ac19605",
      "metadata": {
        "id": "5ac19605"
      },
      "outputs": [],
      "source": [
        "activities1.extend(activities2)"
      ]
    },
    {
      "cell_type": "markdown",
      "id": "e683d631",
      "metadata": {
        "id": "e683d631"
      },
      "source": [
        "## Organizing a List"
      ]
    },
    {
      "cell_type": "markdown",
      "id": "b236b8c2",
      "metadata": {
        "id": "b236b8c2"
      },
      "source": [
        "### Sorting a List Permanently with the `sort()` Method"
      ]
    },
    {
      "cell_type": "code",
      "execution_count": null,
      "id": "5317bd3d",
      "metadata": {
        "id": "5317bd3d"
      },
      "outputs": [],
      "source": [
        "list_to_sort1 = [5, 10, 25, 1, 15, 20]"
      ]
    },
    {
      "cell_type": "code",
      "execution_count": null,
      "id": "27171f0b",
      "metadata": {
        "colab": {
          "base_uri": "https://localhost:8080/"
        },
        "id": "27171f0b",
        "outputId": "cc64b645-05a2-4b4e-c979-74f6d9ca33fe"
      },
      "outputs": [
        {
          "output_type": "execute_result",
          "data": {
            "text/plain": [
              "[1, 5, 10, 15, 20, 25]"
            ]
          },
          "metadata": {},
          "execution_count": 33
        }
      ],
      "source": [
        "list_to_sort1.sort()\n",
        "list_to_sort1"
      ]
    },
    {
      "cell_type": "code",
      "execution_count": null,
      "id": "217f94c0",
      "metadata": {
        "colab": {
          "base_uri": "https://localhost:8080/"
        },
        "id": "217f94c0",
        "outputId": "98d6b7f7-683a-4a7d-988a-0721b44f4a53"
      },
      "outputs": [
        {
          "output_type": "stream",
          "name": "stdout",
          "text": [
            "None\n"
          ]
        }
      ],
      "source": [
        "print(list_to_sort1.sort())"
      ]
    },
    {
      "cell_type": "markdown",
      "id": "dcd14661",
      "metadata": {
        "id": "dcd14661"
      },
      "source": [
        "### Sorting a List Temporarily with the `sorted()` Function"
      ]
    },
    {
      "cell_type": "code",
      "execution_count": null,
      "id": "90538d5d",
      "metadata": {
        "id": "90538d5d"
      },
      "outputs": [],
      "source": [
        "list_to_sort2 = ['banana', 'orange','strawberry','apple']"
      ]
    },
    {
      "cell_type": "code",
      "execution_count": null,
      "id": "816e4c41",
      "metadata": {
        "colab": {
          "base_uri": "https://localhost:8080/"
        },
        "id": "816e4c41",
        "outputId": "1f4fa929-1f19-455c-feb4-0e7052dbe51c"
      },
      "outputs": [
        {
          "output_type": "execute_result",
          "data": {
            "text/plain": [
              "['apple', 'banana', 'orange', 'strawberry']"
            ]
          },
          "metadata": {},
          "execution_count": 36
        }
      ],
      "source": [
        "list_to_sort2 = sorted(list_to_sort2)\n",
        "list_to_sort2"
      ]
    },
    {
      "cell_type": "code",
      "execution_count": null,
      "id": "4437a76b",
      "metadata": {
        "id": "4437a76b"
      },
      "outputs": [],
      "source": []
    },
    {
      "cell_type": "markdown",
      "id": "6ad592b0",
      "metadata": {
        "id": "6ad592b0"
      },
      "source": [
        "### Permanently reversing a list using the `reverse` method"
      ]
    },
    {
      "cell_type": "code",
      "execution_count": null,
      "id": "354a16ec",
      "metadata": {
        "colab": {
          "base_uri": "https://localhost:8080/"
        },
        "id": "354a16ec",
        "outputId": "0c7f9dd3-4de0-48ae-fe00-b90f63b983e9"
      },
      "outputs": [
        {
          "output_type": "execute_result",
          "data": {
            "text/plain": [
              "[25, 20, 15, 10, 5, 1]"
            ]
          },
          "metadata": {},
          "execution_count": 37
        }
      ],
      "source": [
        "list_to_sort1.reverse()\n",
        "list_to_sort1"
      ]
    },
    {
      "cell_type": "code",
      "execution_count": null,
      "id": "4d05c1d8",
      "metadata": {
        "id": "4d05c1d8"
      },
      "outputs": [],
      "source": []
    },
    {
      "cell_type": "code",
      "execution_count": null,
      "id": "5e37ccfa",
      "metadata": {
        "id": "5e37ccfa"
      },
      "outputs": [],
      "source": []
    },
    {
      "cell_type": "code",
      "execution_count": null,
      "id": "fb97769f",
      "metadata": {
        "id": "fb97769f"
      },
      "outputs": [],
      "source": []
    },
    {
      "cell_type": "markdown",
      "id": "c78be1af",
      "metadata": {
        "id": "c78be1af"
      },
      "source": [
        "## Practice 4: Months of the Year\n",
        "* Store the months of the year in a list variable by **chronological order** (January first, December last).  You may use the full name or abbreviations ('Jan' for January, etc.)\n",
        "* Print the list of months in the following formats: **sorted (alphabetical) order**, **reverse chronological order**, **reverse sorted (alphabetical) order**\n",
        "#### Note: the order in which you apply the relevant operations and print the corresponding lists is important!\n"
      ]
    },
    {
      "cell_type": "code",
      "execution_count": null,
      "id": "1ba11269",
      "metadata": {
        "id": "1ba11269"
      },
      "outputs": [],
      "source": [
        "months = ['January', 'February', 'March', 'April', 'May', 'June', 'July', 'August', 'September', 'October', 'November', 'December']"
      ]
    },
    {
      "cell_type": "code",
      "source": [
        "months.reverse()\n",
        "months"
      ],
      "metadata": {
        "colab": {
          "base_uri": "https://localhost:8080/"
        },
        "outputId": "4d36077a-f752-4a4b-d0f1-3f8e2069e277",
        "id": "PSZrf0h2Jz-Z"
      },
      "execution_count": null,
      "outputs": [
        {
          "output_type": "execute_result",
          "data": {
            "text/plain": [
              "['December',\n",
              " 'November',\n",
              " 'October',\n",
              " 'September',\n",
              " 'August',\n",
              " 'July',\n",
              " 'June',\n",
              " 'May',\n",
              " 'April',\n",
              " 'March',\n",
              " 'February',\n",
              " 'January']"
            ]
          },
          "metadata": {},
          "execution_count": 39
        }
      ],
      "id": "PSZrf0h2Jz-Z"
    },
    {
      "cell_type": "code",
      "source": [
        "months = sorted(months)\n",
        "months"
      ],
      "metadata": {
        "colab": {
          "base_uri": "https://localhost:8080/"
        },
        "id": "6wDqeNQXJKXc",
        "outputId": "139ab0ae-c6f7-4024-c795-20fd6c49b27c"
      },
      "id": "6wDqeNQXJKXc",
      "execution_count": null,
      "outputs": [
        {
          "output_type": "execute_result",
          "data": {
            "text/plain": [
              "['April',\n",
              " 'August',\n",
              " 'December',\n",
              " 'February',\n",
              " 'January',\n",
              " 'July',\n",
              " 'June',\n",
              " 'March',\n",
              " 'May',\n",
              " 'November',\n",
              " 'October',\n",
              " 'September']"
            ]
          },
          "metadata": {},
          "execution_count": 40
        }
      ]
    },
    {
      "cell_type": "code",
      "source": [
        "months.reverse()\n",
        "months"
      ],
      "metadata": {
        "colab": {
          "base_uri": "https://localhost:8080/"
        },
        "id": "YsFcITT1JKcS",
        "outputId": "453dfb52-b8a3-4710-db5e-beca918a471a"
      },
      "id": "YsFcITT1JKcS",
      "execution_count": null,
      "outputs": [
        {
          "output_type": "execute_result",
          "data": {
            "text/plain": [
              "['September',\n",
              " 'October',\n",
              " 'November',\n",
              " 'May',\n",
              " 'March',\n",
              " 'June',\n",
              " 'July',\n",
              " 'January',\n",
              " 'February',\n",
              " 'December',\n",
              " 'August',\n",
              " 'April']"
            ]
          },
          "metadata": {},
          "execution_count": 41
        }
      ]
    },
    {
      "cell_type": "markdown",
      "id": "a49ffb72",
      "metadata": {
        "id": "a49ffb72"
      },
      "source": [
        "### List Indices Must Be Integers or Integer Expressions\n",
        "* You can use any arithmetic, function(s), etc. in the subscription, but it must evaluate to an _integer_.\n",
        "* The exceptions are slices (which we'll see in module 4), but even then, each of _their_ components must evaluate to an integer or be omitted.\n",
        "* Using other expressions for indices (decimals, lists, etc.) will result in a `TypeError`\n"
      ]
    },
    {
      "cell_type": "code",
      "execution_count": null,
      "id": "49fce718",
      "metadata": {
        "id": "49fce718"
      },
      "outputs": [],
      "source": [
        "c = [-45, 6, 0, 72, 1543]\n",
        "a = 10\n",
        "b = 7"
      ]
    },
    {
      "cell_type": "code",
      "execution_count": null,
      "id": "ae4f0117",
      "metadata": {
        "colab": {
          "base_uri": "https://localhost:8080/"
        },
        "id": "ae4f0117",
        "outputId": "20ca1f62-3a9c-4fca-ba3b-074bc38680bb"
      },
      "outputs": [
        {
          "output_type": "stream",
          "name": "stdout",
          "text": [
            "72\n"
          ]
        }
      ],
      "source": [
        "print(c[a - b])"
      ]
    },
    {
      "cell_type": "code",
      "execution_count": null,
      "id": "f16bb9b8",
      "metadata": {
        "colab": {
          "base_uri": "https://localhost:8080/"
        },
        "id": "f16bb9b8",
        "outputId": "c24cd4d9-4b77-4528-eab1-ff8ecab4c4d1"
      },
      "outputs": [
        {
          "output_type": "stream",
          "name": "stdout",
          "text": [
            "6\n"
          ]
        }
      ],
      "source": [
        "print(c[(a//b)])"
      ]
    },
    {
      "cell_type": "code",
      "execution_count": null,
      "id": "46cdcf7e",
      "metadata": {
        "scrolled": true,
        "colab": {
          "base_uri": "https://localhost:8080/"
        },
        "id": "46cdcf7e",
        "outputId": "73db5e5e-50de-4982-8908-d6737595021b"
      },
      "outputs": [
        {
          "output_type": "stream",
          "name": "stdout",
          "text": [
            "1543\n"
          ]
        }
      ],
      "source": [
        "print(c[a-b+1])"
      ]
    },
    {
      "cell_type": "code",
      "execution_count": null,
      "id": "fe97f33d",
      "metadata": {
        "colab": {
          "base_uri": "https://localhost:8080/",
          "height": 176
        },
        "id": "fe97f33d",
        "outputId": "2f9509ee-1077-415f-e030-d9d402f642a5"
      },
      "outputs": [
        {
          "output_type": "error",
          "ename": "TypeError",
          "evalue": "list indices must be integers or slices, not list",
          "traceback": [
            "\u001b[0;31m---------------------------------------------------------------------------\u001b[0m",
            "\u001b[0;31mTypeError\u001b[0m                                 Traceback (most recent call last)",
            "\u001b[0;32m<ipython-input-46-759cd7a0236a>\u001b[0m in \u001b[0;36m<cell line: 0>\u001b[0;34m()\u001b[0m\n\u001b[1;32m      1\u001b[0m \u001b[0mmylist1\u001b[0m \u001b[0;34m=\u001b[0m \u001b[0;34m[\u001b[0m\u001b[0;36m2\u001b[0m\u001b[0;34m,\u001b[0m\u001b[0;36m4\u001b[0m\u001b[0;34m,\u001b[0m\u001b[0;36m6\u001b[0m\u001b[0;34m,\u001b[0m\u001b[0;36m8\u001b[0m\u001b[0;34m,\u001b[0m\u001b[0;36m10\u001b[0m\u001b[0;34m,\u001b[0m\u001b[0;36m12\u001b[0m\u001b[0;34m]\u001b[0m\u001b[0;34m\u001b[0m\u001b[0;34m\u001b[0m\u001b[0m\n\u001b[1;32m      2\u001b[0m \u001b[0mmylist2\u001b[0m \u001b[0;34m=\u001b[0m \u001b[0;34m[\u001b[0m\u001b[0;34m'a'\u001b[0m\u001b[0;34m,\u001b[0m \u001b[0;34m'b'\u001b[0m\u001b[0;34m,\u001b[0m \u001b[0;34m'c'\u001b[0m\u001b[0;34m]\u001b[0m\u001b[0;34m\u001b[0m\u001b[0;34m\u001b[0m\u001b[0m\n\u001b[0;32m----> 3\u001b[0;31m \u001b[0mprint\u001b[0m\u001b[0;34m(\u001b[0m\u001b[0mmylist1\u001b[0m\u001b[0;34m[\u001b[0m\u001b[0mmylist2\u001b[0m\u001b[0;34m]\u001b[0m\u001b[0;34m)\u001b[0m\u001b[0;34m\u001b[0m\u001b[0;34m\u001b[0m\u001b[0m\n\u001b[0m",
            "\u001b[0;31mTypeError\u001b[0m: list indices must be integers or slices, not list"
          ]
        }
      ],
      "source": [
        "mylist1 = [2,4,6,8,10,12]\n",
        "mylist2 = ['a', 'b', 'c']\n",
        "print(mylist1[mylist2])"
      ]
    },
    {
      "cell_type": "code",
      "execution_count": null,
      "id": "d58cc655",
      "metadata": {
        "id": "d58cc655"
      },
      "outputs": [],
      "source": []
    },
    {
      "cell_type": "markdown",
      "id": "8a8fb2c5",
      "metadata": {
        "id": "8a8fb2c5"
      },
      "source": [
        "### Comparison Operators and Lists\n",
        "* List equality `==` compares list elements one-by-one -- if all match, than the expression evaluates to true.\n",
        "* Can be done with some other operators (`>`, `<`, etc.) , but the details are a bit tricky."
      ]
    },
    {
      "cell_type": "code",
      "execution_count": null,
      "id": "bf778e7b",
      "metadata": {
        "id": "bf778e7b"
      },
      "outputs": [],
      "source": [
        "a = [1, 2, 3]\n",
        "b = [1, 2, 3]\n",
        "c = [1, 2, 3, 4]\n",
        "d = [1, 5, 10]"
      ]
    },
    {
      "cell_type": "code",
      "execution_count": null,
      "id": "05ca50c3",
      "metadata": {
        "colab": {
          "base_uri": "https://localhost:8080/"
        },
        "id": "05ca50c3",
        "outputId": "16ff07a8-cc27-47aa-83c5-a7b2b729c059"
      },
      "outputs": [
        {
          "output_type": "stream",
          "name": "stdout",
          "text": [
            "True\n",
            "False\n"
          ]
        }
      ],
      "source": [
        "print(1+2 == 3)\n",
        "print(1*2 == 3)"
      ]
    },
    {
      "cell_type": "code",
      "source": [
        "print(a == b)\n",
        "print(a == c)\n",
        "print(a == d)"
      ],
      "metadata": {
        "colab": {
          "base_uri": "https://localhost:8080/"
        },
        "id": "37K5hOCUM7Aa",
        "outputId": "35b9858d-cb81-47fb-c61e-aefcae196995"
      },
      "id": "37K5hOCUM7Aa",
      "execution_count": null,
      "outputs": [
        {
          "output_type": "stream",
          "name": "stdout",
          "text": [
            "True\n",
            "False\n",
            "False\n"
          ]
        }
      ]
    },
    {
      "cell_type": "markdown",
      "id": "32880d92",
      "metadata": {
        "id": "32880d92"
      },
      "source": [
        "### Accessing Valid Elements\n",
        "* The `len` function returns the number of elements in a list.\n",
        "* Important: if a list has **n** elements, only indices **0** to **n-1** are valid.\n",
        "* Accessing an invalid index (e.g. one larger than the size) returns a `list index of range` error."
      ]
    },
    {
      "cell_type": "code",
      "execution_count": null,
      "id": "9a20801f",
      "metadata": {
        "scrolled": true,
        "id": "9a20801f"
      },
      "outputs": [],
      "source": [
        "numbers=[10,30,45,9,100,12]"
      ]
    },
    {
      "cell_type": "code",
      "execution_count": null,
      "id": "c9d1ab24",
      "metadata": {
        "colab": {
          "base_uri": "https://localhost:8080/"
        },
        "id": "c9d1ab24",
        "outputId": "fb0a6507-acdc-46ae-fae1-f0deb468f074"
      },
      "outputs": [
        {
          "output_type": "execute_result",
          "data": {
            "text/plain": [
              "6"
            ]
          },
          "metadata": {},
          "execution_count": 51
        }
      ],
      "source": [
        "len(numbers)"
      ]
    },
    {
      "cell_type": "code",
      "execution_count": null,
      "id": "3303fbaf",
      "metadata": {
        "colab": {
          "base_uri": "https://localhost:8080/"
        },
        "id": "3303fbaf",
        "outputId": "c394dde8-17e8-4e8b-ec82-ab51c009786c"
      },
      "outputs": [
        {
          "output_type": "execute_result",
          "data": {
            "text/plain": [
              "12"
            ]
          },
          "metadata": {},
          "execution_count": 52
        }
      ],
      "source": [
        "numbers[-1]"
      ]
    },
    {
      "cell_type": "markdown",
      "id": "bc84322a",
      "metadata": {
        "id": "bc84322a"
      },
      "source": [
        "### Basic Statistics Applied to Lists\n",
        "- `min`, `max`, and `sum` are all Python functions that can be applied to lists.\n",
        "- Note 1: The behavior of these functions varies depending upon the types of elements involved.\n",
        "- Note 2: these are **functions** precisely because they can also be applied to other collection types as well."
      ]
    },
    {
      "cell_type": "code",
      "execution_count": null,
      "id": "aa8e16f6",
      "metadata": {
        "id": "aa8e16f6",
        "colab": {
          "base_uri": "https://localhost:8080/"
        },
        "outputId": "3762af4a-d4f8-4522-cdc5-6ff2be92bea3"
      },
      "outputs": [
        {
          "output_type": "execute_result",
          "data": {
            "text/plain": [
              "[90, 85, 70, 92, 91]"
            ]
          },
          "metadata": {},
          "execution_count": 54
        }
      ],
      "source": [
        "mylistofgrades = [90, 85, 70, 92, 91]\n",
        "mylistofgrades"
      ]
    },
    {
      "cell_type": "code",
      "execution_count": null,
      "id": "33e6623a",
      "metadata": {
        "id": "33e6623a",
        "colab": {
          "base_uri": "https://localhost:8080/"
        },
        "outputId": "ef6403fe-862a-4796-8333-d4a26355ce5f"
      },
      "outputs": [
        {
          "output_type": "execute_result",
          "data": {
            "text/plain": [
              "92"
            ]
          },
          "metadata": {},
          "execution_count": 55
        }
      ],
      "source": [
        "max(mylistofgrades)"
      ]
    },
    {
      "cell_type": "code",
      "execution_count": null,
      "id": "afc397bd",
      "metadata": {
        "id": "afc397bd",
        "colab": {
          "base_uri": "https://localhost:8080/"
        },
        "outputId": "b1248138-44f8-414a-ef83-c7875d8d85d5"
      },
      "outputs": [
        {
          "output_type": "execute_result",
          "data": {
            "text/plain": [
              "70"
            ]
          },
          "metadata": {},
          "execution_count": 56
        }
      ],
      "source": [
        "min(mylistofgrades)"
      ]
    },
    {
      "cell_type": "code",
      "source": [
        "sum(mylistofgrades)/len(mylistofgrades)"
      ],
      "metadata": {
        "colab": {
          "base_uri": "https://localhost:8080/"
        },
        "id": "EmjPZtJPYZCV",
        "outputId": "09add8f4-c51e-48e1-b687-c27dc6d768c3"
      },
      "id": "EmjPZtJPYZCV",
      "execution_count": null,
      "outputs": [
        {
          "output_type": "execute_result",
          "data": {
            "text/plain": [
              "85.6"
            ]
          },
          "metadata": {},
          "execution_count": 57
        }
      ]
    },
    {
      "cell_type": "code",
      "execution_count": null,
      "id": "c81c6b18",
      "metadata": {
        "id": "c81c6b18"
      },
      "outputs": [],
      "source": [
        "names = ['Angela', 'Abigail', 'Yohan', 'Jason']"
      ]
    },
    {
      "cell_type": "code",
      "execution_count": null,
      "id": "13f71c1a",
      "metadata": {
        "id": "13f71c1a",
        "colab": {
          "base_uri": "https://localhost:8080/",
          "height": 35
        },
        "outputId": "725dcd08-e86f-4660-88a3-4ec7d4b26f0d"
      },
      "outputs": [
        {
          "output_type": "execute_result",
          "data": {
            "text/plain": [
              "'Yohan'"
            ],
            "application/vnd.google.colaboratory.intrinsic+json": {
              "type": "string"
            }
          },
          "metadata": {},
          "execution_count": 65
        }
      ],
      "source": [
        "max(names)"
      ]
    },
    {
      "cell_type": "code",
      "execution_count": null,
      "id": "4b91b857",
      "metadata": {
        "id": "4b91b857",
        "colab": {
          "base_uri": "https://localhost:8080/",
          "height": 35
        },
        "outputId": "b58bb03b-e150-48f3-ad29-8f116be834b3"
      },
      "outputs": [
        {
          "output_type": "execute_result",
          "data": {
            "text/plain": [
              "'Abigail'"
            ],
            "application/vnd.google.colaboratory.intrinsic+json": {
              "type": "string"
            }
          },
          "metadata": {},
          "execution_count": 66
        }
      ],
      "source": [
        "min(names)"
      ]
    },
    {
      "cell_type": "code",
      "source": [
        "names.sort()\n",
        "names"
      ],
      "metadata": {
        "colab": {
          "base_uri": "https://localhost:8080/"
        },
        "id": "6SOz9SOOZVc9",
        "outputId": "977a6ead-9f5b-4da3-b8c2-90eea8b5dc19"
      },
      "id": "6SOz9SOOZVc9",
      "execution_count": null,
      "outputs": [
        {
          "output_type": "execute_result",
          "data": {
            "text/plain": [
              "['Abigail', 'Angela', 'Jason', 'Yohan']"
            ]
          },
          "metadata": {},
          "execution_count": 68
        }
      ]
    },
    {
      "cell_type": "markdown",
      "id": "c7223b1d",
      "metadata": {
        "id": "c7223b1d"
      },
      "source": [
        "## Practice 5: Some More Statistics\n",
        "* Create a list containing the temperature highs for the past week.\n",
        "* Compute and print the _min_, _max_ and _sum_ of these temperature highs.\n",
        "* Compute and print the _range_ in the temperature highs, which is defined as the difference between the minimum and maximum.\n",
        "* Compute and print the _mean_ (average) of temperature highs over the past week.\n",
        "#### Note that the last two calculations may require a little bit of thought."
      ]
    },
    {
      "cell_type": "code",
      "execution_count": null,
      "id": "639369ca",
      "metadata": {
        "id": "639369ca",
        "colab": {
          "base_uri": "https://localhost:8080/"
        },
        "outputId": "d19ce3f7-0342-40ab-f8b3-62bf4bb42a9c"
      },
      "outputs": [
        {
          "output_type": "stream",
          "name": "stdout",
          "text": [
            "28 55 280 27 40.0\n"
          ]
        }
      ],
      "source": [
        "temps_high = [32, 28, 29, 40, 55, 45, 51]\n",
        "range = max(temps_high) - min(temps_high)\n",
        "mean = sum(temps_high) / len(temps_high)\n",
        "print(min(temps_high),\n",
        "max(temps_high),\n",
        "sum(temps_high), range, mean)"
      ]
    },
    {
      "cell_type": "markdown",
      "id": "6d5ce19a",
      "metadata": {
        "id": "6d5ce19a"
      },
      "source": [
        "## Nested Lists\n",
        "* It's entirely possible to have **Lists of Lists** in Python.\n",
        "* These are typically called **nested lists** and they are often used to further organize collections of information.\n",
        "* There is nothing particularly unique about nested lists, but they can take some getting used to in terms of operation.\n"
      ]
    },
    {
      "cell_type": "code",
      "execution_count": null,
      "id": "c20251ce",
      "metadata": {
        "id": "c20251ce"
      },
      "outputs": [],
      "source": [
        "Employees = [['Alex Connors', 'Emily Talesin', 'Pat Callums'],['Finances', 'Research', 'Research'],[6,4,1]]"
      ]
    },
    {
      "cell_type": "code",
      "execution_count": null,
      "id": "a2bffef4",
      "metadata": {
        "id": "a2bffef4",
        "colab": {
          "base_uri": "https://localhost:8080/"
        },
        "outputId": "3c285de9-db36-4134-8df2-d8690b80ccad"
      },
      "outputs": [
        {
          "output_type": "execute_result",
          "data": {
            "text/plain": [
              "3"
            ]
          },
          "metadata": {},
          "execution_count": 76
        }
      ],
      "source": [
        "len(Employees[0])"
      ]
    },
    {
      "cell_type": "code",
      "execution_count": null,
      "id": "326050e3",
      "metadata": {
        "id": "326050e3",
        "colab": {
          "base_uri": "https://localhost:8080/"
        },
        "outputId": "79f033fa-42ea-492d-9d60-353d3a42eb36"
      },
      "outputs": [
        {
          "output_type": "execute_result",
          "data": {
            "text/plain": [
              "2"
            ]
          },
          "metadata": {},
          "execution_count": 79
        }
      ],
      "source": [
        "Employees[2].index(1)"
      ]
    },
    {
      "cell_type": "code",
      "source": [
        "print(Employees[0][2],\n",
        "Employees[1][2],\n",
        "Employees[2][2])"
      ],
      "metadata": {
        "colab": {
          "base_uri": "https://localhost:8080/"
        },
        "id": "GSSABXGObRlA",
        "outputId": "ba20cdae-d22b-46b5-8a33-60732a5d182b"
      },
      "id": "GSSABXGObRlA",
      "execution_count": null,
      "outputs": [
        {
          "output_type": "stream",
          "name": "stdout",
          "text": [
            "Pat Callums Research 1\n"
          ]
        }
      ]
    },
    {
      "cell_type": "markdown",
      "id": "464d6edc",
      "metadata": {
        "id": "464d6edc"
      },
      "source": [
        "### Copying a List\n",
        "* Using simple assignment of one variable to another (e.g. `x=y`) **does not duplicate the elements within a collection (e.g. a list)**.\n",
        "     * Any modifications to one collection will be reflected in the other.\n",
        "* The `copy()` method creates a **shallow copy** that DOES duplicate all embedded objects.\n",
        "     * Note that objects embedded WITHIN the initial layer of objects (e.g. lists within a list) are NOT duplicated."
      ]
    },
    {
      "cell_type": "code",
      "execution_count": null,
      "id": "224de49e",
      "metadata": {
        "id": "224de49e"
      },
      "outputs": [],
      "source": [
        "baselist_v1 =[1, 2, 3]\n",
        "mylist = baselist_v1"
      ]
    },
    {
      "cell_type": "code",
      "execution_count": null,
      "id": "3e7d4d40",
      "metadata": {
        "id": "3e7d4d40",
        "colab": {
          "base_uri": "https://localhost:8080/"
        },
        "outputId": "75f071be-2ffb-4c4d-d2c8-09f630e823a2"
      },
      "outputs": [
        {
          "output_type": "stream",
          "name": "stdout",
          "text": [
            "[1, 2, 3] [1, 2, 3]\n"
          ]
        }
      ],
      "source": [
        "print(baselist_v1, mylist)"
      ]
    },
    {
      "cell_type": "code",
      "execution_count": null,
      "id": "11ecc082",
      "metadata": {
        "id": "11ecc082"
      },
      "outputs": [],
      "source": [
        "baselist_v2 =[1, 2, 3]\n",
        "mylist2=baselist_v2.copy()"
      ]
    },
    {
      "cell_type": "code",
      "execution_count": null,
      "id": "87333ac9",
      "metadata": {
        "id": "87333ac9",
        "colab": {
          "base_uri": "https://localhost:8080/"
        },
        "outputId": "567ad3d8-d5d4-49bd-f14d-f2f9837751d6"
      },
      "outputs": [
        {
          "output_type": "stream",
          "name": "stdout",
          "text": [
            "[1, 2, 3] [1, 2, 3]\n"
          ]
        }
      ],
      "source": [
        "print(baselist_v2, mylist2)"
      ]
    },
    {
      "cell_type": "markdown",
      "id": "5da0f75f",
      "metadata": {
        "id": "5da0f75f"
      },
      "source": [
        "## Arithmetic Operators and Lists\n",
        "Arithmetic operators have **at least** three major uses when it comes to lists.\n",
        "1. `+` can be used to concatenate two lists.\n",
        "2. `*` can be used with an integer _n_ to **duplicate** a list _n_ times.\n",
        "3. All the arithmetic operators (`+`,`-`, etc.) can be used in the context of **list comprehension**, which we will look at next module."
      ]
    },
    {
      "cell_type": "code",
      "execution_count": null,
      "id": "49d1ba5d",
      "metadata": {
        "id": "49d1ba5d"
      },
      "outputs": [],
      "source": [
        "nums1 = [1, 2, 3, 4]\n",
        "nums2 = [5, 6, 7, 8]"
      ]
    },
    {
      "cell_type": "code",
      "execution_count": null,
      "id": "05d2355a",
      "metadata": {
        "id": "05d2355a"
      },
      "outputs": [],
      "source": []
    },
    {
      "cell_type": "code",
      "execution_count": null,
      "id": "5c9f64cf",
      "metadata": {
        "id": "5c9f64cf"
      },
      "outputs": [],
      "source": []
    },
    {
      "cell_type": "code",
      "source": [],
      "metadata": {
        "id": "LPlrSw_zdGQ-"
      },
      "id": "LPlrSw_zdGQ-",
      "execution_count": null,
      "outputs": []
    },
    {
      "cell_type": "markdown",
      "id": "721d3af4",
      "metadata": {
        "id": "721d3af4"
      },
      "source": [
        "## Practice 6: Duplication and Nested Lists\n",
        "Using a few commmands, create a list that **contains** the following three lists, one-by-one:\n",
        "1. A 20-element list alternating between 1s and 2s (i.e. [1, 2, 1, 2, etc.])\n",
        "2. A 5-element list consisting entirely of 0s\n",
        "3. A 30-element list containing the elements from the _first_ list bounded by five 0's on either side."
      ]
    },
    {
      "cell_type": "code",
      "execution_count": null,
      "id": "645d170b",
      "metadata": {
        "id": "645d170b",
        "colab": {
          "base_uri": "https://localhost:8080/"
        },
        "outputId": "388745e6-1d80-4692-ba29-d6ae23628f34"
      },
      "outputs": [
        {
          "output_type": "execute_result",
          "data": {
            "text/plain": [
              "[1, 2, 3, 4, 5, 6, 7, 8]"
            ]
          },
          "metadata": {},
          "execution_count": 94
        }
      ],
      "source": [
        "nums1 + nums2"
      ]
    },
    {
      "cell_type": "code",
      "source": [
        "[1,2]*10"
      ],
      "metadata": {
        "colab": {
          "base_uri": "https://localhost:8080/"
        },
        "id": "rJww7si8dMyN",
        "outputId": "0e075d5b-1eb5-4dca-cb8d-6871e6f5a63b"
      },
      "id": "rJww7si8dMyN",
      "execution_count": null,
      "outputs": [
        {
          "output_type": "execute_result",
          "data": {
            "text/plain": [
              "[1, 2, 1, 2, 1, 2, 1, 2, 1, 2, 1, 2, 1, 2, 1, 2, 1, 2, 1, 2]"
            ]
          },
          "metadata": {},
          "execution_count": 96
        }
      ]
    },
    {
      "cell_type": "code",
      "source": [
        "[0]*5"
      ],
      "metadata": {
        "colab": {
          "base_uri": "https://localhost:8080/"
        },
        "id": "ZQuLYaeAdQOz",
        "outputId": "b65d7574-2c7f-4637-fda5-1b94c780fbe9"
      },
      "id": "ZQuLYaeAdQOz",
      "execution_count": null,
      "outputs": [
        {
          "output_type": "execute_result",
          "data": {
            "text/plain": [
              "[0, 0, 0, 0, 0]"
            ]
          },
          "metadata": {},
          "execution_count": 98
        }
      ]
    },
    {
      "cell_type": "code",
      "source": [
        "[0]*5 + [1,2]*10 + [0]*5"
      ],
      "metadata": {
        "colab": {
          "base_uri": "https://localhost:8080/"
        },
        "id": "KwpUySeldTmN",
        "outputId": "50af9d87-c1dd-49aa-fae5-67cde7d94b36"
      },
      "id": "KwpUySeldTmN",
      "execution_count": null,
      "outputs": [
        {
          "output_type": "execute_result",
          "data": {
            "text/plain": [
              "[0,\n",
              " 0,\n",
              " 0,\n",
              " 0,\n",
              " 0,\n",
              " 1,\n",
              " 2,\n",
              " 1,\n",
              " 2,\n",
              " 1,\n",
              " 2,\n",
              " 1,\n",
              " 2,\n",
              " 1,\n",
              " 2,\n",
              " 1,\n",
              " 2,\n",
              " 1,\n",
              " 2,\n",
              " 1,\n",
              " 2,\n",
              " 1,\n",
              " 2,\n",
              " 1,\n",
              " 2,\n",
              " 0,\n",
              " 0,\n",
              " 0,\n",
              " 0,\n",
              " 0]"
            ]
          },
          "metadata": {},
          "execution_count": 99
        }
      ]
    }
  ],
  "metadata": {
    "kernelspec": {
      "display_name": "Python 3",
      "name": "python3"
    },
    "language_info": {
      "codemirror_mode": {
        "name": "ipython",
        "version": 3
      },
      "file_extension": ".py",
      "mimetype": "text/x-python",
      "name": "python",
      "nbconvert_exporter": "python",
      "pygments_lexer": "ipython3",
      "version": "3.10.8"
    },
    "colab": {
      "provenance": [],
      "gpuType": "T4",
      "include_colab_link": true
    },
    "accelerator": "GPU"
  },
  "nbformat": 4,
  "nbformat_minor": 5
}