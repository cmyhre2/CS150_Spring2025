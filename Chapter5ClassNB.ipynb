{
  "cells": [
    {
      "cell_type": "markdown",
      "metadata": {
        "id": "view-in-github",
        "colab_type": "text"
      },
      "source": [
        "<a href=\"https://colab.research.google.com/github/cmyhre2/CS150_Spring2025/blob/Class-Notebooks/Chapter5ClassNB.ipynb\" target=\"_parent\"><img src=\"https://colab.research.google.com/assets/colab-badge.svg\" alt=\"Open In Colab\"/></a>"
      ]
    },
    {
      "cell_type": "markdown",
      "id": "6e1589ce",
      "metadata": {
        "id": "6e1589ce"
      },
      "source": [
        "# Chapter 5: If statements\n",
        "### Python’s if statement allows you to examine the current state of a program and respond appropriately to that state."
      ]
    },
    {
      "cell_type": "markdown",
      "id": "5e3043a5",
      "metadata": {
        "id": "5e3043a5"
      },
      "source": [
        "## Flow of Control\n",
        "* A crucial aspect to programming is the order in which operations are executed (flow of control).\n",
        "* The vast majority of languages (Python included) dictate that statements are to be executed one by one in sequential order.\n",
        "    * The Python standard is that statements are separated by line-breaks in top-to-bottom order.\n",
        "    * Python also allows semicolons (;) to break apart multiple statements on a single line.\n",
        "* Various Python statements enable you to **subvert** standard flow of control.\n",
        "    * This is called transfer of control and is achieved with Python control statements."
      ]
    },
    {
      "cell_type": "markdown",
      "id": "ae43f359",
      "metadata": {
        "id": "ae43f359"
      },
      "source": [
        "## Control Statements\n",
        "* All programs can be written using three forms of control\n",
        "    * Sequential execution\n",
        "    * The selection statement\n",
        "    * The iteration statement (We'll talk about this in a later module.)\n",
        "* Python has most conventional control statements, but the syntax use is a bit unusual for some."
      ]
    },
    {
      "cell_type": "markdown",
      "id": "eff8ec32",
      "metadata": {
        "id": "eff8ec32"
      },
      "source": [
        "### Selection Statements\n",
        "* Three selection statements that execute code based on a condition—an expression that evaluates to either `True` or `False`:\n",
        "    * `if` performs an action if a condition is `True` or skips the action if the condition is `False`.\n",
        "    * `if`…`else` statement performs an action if a condition is `True` or performs a different action if the condition is `False`.\n",
        "    * `if`…`elif`…`else` statement performs one of many different actions, depending on the truth or falsity of several conditions.\n",
        "* Anywhere a single action can be placed, a group of actions can be placed."
      ]
    },
    {
      "cell_type": "markdown",
      "id": "1843fe24",
      "metadata": {
        "id": "1843fe24"
      },
      "source": [
        "## Flowcharts\n",
        "* Graphical representation of an algorithm or a part of one.\n",
        "* Drawn using rectangles, diamonds, rounded rectangles and small circles connected by arrows called flowlines.\n",
        "* Clearly show how forms of control operate."
      ]
    },
    {
      "cell_type": "markdown",
      "id": "294dcf95",
      "metadata": {
        "id": "294dcf95"
      },
      "source": [
        "\n",
        "### Suppose that a passing grade on an examination is 60.\n",
        "\n",
        "![image-2.png](attachment:image-2.png)"
      ]
    },
    {
      "cell_type": "code",
      "execution_count": null,
      "id": "ebcf94ed",
      "metadata": {
        "colab": {
          "base_uri": "https://localhost:8080/"
        },
        "id": "ebcf94ed",
        "outputId": "4aa527b7-43a0-4afa-f1b4-da726835db08"
      },
      "outputs": [
        {
          "output_type": "stream",
          "name": "stdout",
          "text": [
            "Please input your grade: 61\n",
            "Congratulations -- you passed!\n"
          ]
        }
      ],
      "source": [
        "grade = int(input('Please input your grade: '))\n",
        "if grade >= 60:\n",
        "    print('Congratulations -- you passed!')\n",
        "else:\n",
        "    print('Sorry -- you failed.')"
      ]
    },
    {
      "cell_type": "code",
      "execution_count": null,
      "id": "ae21795f",
      "metadata": {
        "id": "ae21795f"
      },
      "outputs": [],
      "source": []
    },
    {
      "cell_type": "code",
      "execution_count": null,
      "id": "cba43de5",
      "metadata": {
        "id": "cba43de5"
      },
      "outputs": [],
      "source": []
    },
    {
      "cell_type": "markdown",
      "id": "4b3fe8d0",
      "metadata": {
        "id": "4b3fe8d0"
      },
      "source": [
        "### Some Important Keywords\n",
        "* Notice that a few (shown in **bold**) start with an uppercase letter.\n",
        "* We'll look at many of these during the semester, but _not all of them._\n",
        "\n",
        "| &nbsp; | &nbsp; | &nbsp; | &nbsp; | &nbsp; |\n",
        "| :------ | :------ | :------ | :------ | :------ |\n",
        "| `and` | `as` | `assert` | `async` | `await` |\n",
        "| `break` | `class` | `continue` | `def` | `del` |\n",
        "| `elif` | `else` | `except` | **`False`** | `finally` |\n",
        "| `for` | `from` | `global` | `if` | `import`\n",
        "| `in` | `is` | `lambda` | **`None`** | `nonlocal` |\n",
        "| `not` | `or` | `pass`| `raise` | `return` |\n",
        "| **`True`** | `try` | `while` | `with` | `yield` |"
      ]
    },
    {
      "cell_type": "code",
      "execution_count": null,
      "id": "0edbd120",
      "metadata": {
        "id": "0edbd120"
      },
      "outputs": [],
      "source": []
    },
    {
      "cell_type": "code",
      "execution_count": null,
      "id": "de8467e6",
      "metadata": {
        "id": "de8467e6"
      },
      "outputs": [],
      "source": []
    },
    {
      "cell_type": "markdown",
      "id": "adfacfb6",
      "metadata": {
        "id": "adfacfb6"
      },
      "source": [
        "### `=` is for assignment, `==` is for making an _equality_ comparison.\n",
        "* Use a single equals (`=`) when assigning an expression to a variable\n",
        "* Use a double equals (`==`) when comparing one expression to another."
      ]
    },
    {
      "cell_type": "code",
      "execution_count": null,
      "id": "0e211eb5",
      "metadata": {
        "id": "0e211eb5"
      },
      "outputs": [],
      "source": [
        "x = 10\n",
        "y = 20"
      ]
    },
    {
      "cell_type": "code",
      "execution_count": null,
      "id": "68d8109a",
      "metadata": {
        "colab": {
          "base_uri": "https://localhost:8080/"
        },
        "id": "68d8109a",
        "outputId": "70facbe9-1f7b-41fd-aac2-9805ec8ccb3b"
      },
      "outputs": [
        {
          "output_type": "stream",
          "name": "stdout",
          "text": [
            "These numbers are not the same.\n"
          ]
        }
      ],
      "source": [
        "if x!=y:\n",
        "  print('These numbers are not the same.')"
      ]
    },
    {
      "cell_type": "markdown",
      "id": "f59afe05",
      "metadata": {
        "id": "f59afe05"
      },
      "source": [
        "### Practice 1: Matching Names\n",
        "* Take as input someone's first name.\n",
        "* Check to see if their name matches (is equal) to your own -- if it does, print out \"Hey -- you and I have the same first name!\"\n",
        "* Regardless of whether it matches or not, print out \"Talk to you later.\""
      ]
    },
    {
      "cell_type": "code",
      "source": [
        "name = input('What is your name')\n",
        "if name != 'Chris':\n",
        "  print('Hey -- you and I don\\'t have the same first name!')\n",
        "print('Talk to you later.')\n",
        "if name == 'Chris':\n",
        "  print('Hey -- you and I have the same first name!')\n",
        "  print('Talk to you later.')"
      ],
      "metadata": {
        "colab": {
          "base_uri": "https://localhost:8080/"
        },
        "id": "s94o5jbziblN",
        "outputId": "200fddb8-c269-41d9-b01e-b9ad23ae543c"
      },
      "id": "s94o5jbziblN",
      "execution_count": null,
      "outputs": [
        {
          "output_type": "stream",
          "name": "stdout",
          "text": [
            "What is your namebob\n",
            "Hey -- you and I don't have the same first name!\n",
            "Talk to you later.\n"
          ]
        }
      ]
    },
    {
      "cell_type": "markdown",
      "id": "7540618e",
      "metadata": {
        "id": "7540618e"
      },
      "source": []
    },
    {
      "cell_type": "markdown",
      "id": "a7d38a23",
      "metadata": {
        "id": "a7d38a23"
      },
      "source": [
        "## Other Comparison Operators in Python\n",
        "Sometimes we don't need to check solely for equality.\n",
        "* Use `<` for **less than** comparisons.\n",
        "* Use  `<=` for **less than equal** comparisons.\n",
        "* Use `>` for **greater than** comparisons.\n",
        "* Use `>=` for **greater than equal** comparisons (as seen previously).\n",
        "* Use `!=` for **inequality** comparisons.\n",
        "\n"
      ]
    },
    {
      "cell_type": "code",
      "execution_count": null,
      "id": "e1aa6efd",
      "metadata": {
        "id": "e1aa6efd"
      },
      "outputs": [],
      "source": []
    },
    {
      "cell_type": "code",
      "execution_count": null,
      "id": "196c01cd",
      "metadata": {
        "id": "196c01cd"
      },
      "outputs": [],
      "source": []
    },
    {
      "cell_type": "code",
      "execution_count": null,
      "id": "eabc63b1",
      "metadata": {
        "id": "eabc63b1"
      },
      "outputs": [],
      "source": []
    },
    {
      "cell_type": "code",
      "execution_count": null,
      "id": "e862fae2",
      "metadata": {
        "id": "e862fae2"
      },
      "outputs": [],
      "source": []
    },
    {
      "cell_type": "code",
      "execution_count": null,
      "id": "ea1e30e7",
      "metadata": {
        "id": "ea1e30e7"
      },
      "outputs": [],
      "source": []
    },
    {
      "cell_type": "markdown",
      "id": "1237974f",
      "metadata": {
        "id": "1237974f"
      },
      "source": [
        "### Practice 2: Age and Privileges\n",
        "Sometimes a series of simple if statements can be used to provide feedback about what someone can do based on an input value.\n",
        "* Take as input someone's age.\n",
        "* Print out statements letting them know they qualify for _any of_ the following:\n",
        "    1. If they are 16, they can legally drive.\n",
        "    2. If they are 18, they can legally vote.\n",
        "    3. If they are 25, they can rent a car without paying a surcharge."
      ]
    },
    {
      "cell_type": "code",
      "execution_count": null,
      "id": "ad79144d",
      "metadata": {
        "id": "ad79144d",
        "colab": {
          "base_uri": "https://localhost:8080/"
        },
        "outputId": "229c570d-e4b6-475c-9e96-24f96b732f68"
      },
      "outputs": [
        {
          "output_type": "stream",
          "name": "stdout",
          "text": [
            "What is your age: 15\n",
            "You are too young to legally drive, vote or rent a car.\n"
          ]
        }
      ],
      "source": [
        "age = int(input('What is your age: '))\n",
        "if age >= 25:\n",
        "  print('You can rent a car without paying a surcharge.')\n",
        "if age >= 18:\n",
        "  print('You can legally vote.')\n",
        "if age >= 16:\n",
        "  print('You can legally drive.')\n",
        "else:\n",
        "  print('You are too young to legally drive, vote or rent a car.')"
      ]
    },
    {
      "cell_type": "markdown",
      "id": "a6f50664",
      "metadata": {
        "id": "a6f50664"
      },
      "source": [
        "## Ignoring Case in Strings When Checking for Equality"
      ]
    },
    {
      "cell_type": "code",
      "execution_count": null,
      "id": "63f794bd",
      "metadata": {
        "id": "63f794bd"
      },
      "outputs": [],
      "source": []
    },
    {
      "cell_type": "code",
      "execution_count": null,
      "id": "4c7688c4",
      "metadata": {
        "id": "4c7688c4"
      },
      "outputs": [],
      "source": []
    },
    {
      "cell_type": "markdown",
      "id": "4358b1dd",
      "metadata": {
        "id": "4358b1dd"
      },
      "source": [
        "## Suites and Indentation\n",
        "* Any individual code block with standard (sequential) execution is known as a suite.\n",
        "* Control statements require one or more header lines, each of which is followed by a suite.\n",
        "    * A header line includes relevant condition(s) to test.\n",
        "    * The suite must be indented and executes if that condition is met."
      ]
    },
    {
      "cell_type": "code",
      "execution_count": null,
      "id": "72fe995e",
      "metadata": {
        "id": "72fe995e"
      },
      "outputs": [],
      "source": []
    },
    {
      "cell_type": "markdown",
      "id": "9202e9b0",
      "metadata": {
        "id": "9202e9b0"
      },
      "source": [
        "### Incorrectly Formatted Suites\n",
        "If statements in a suite **do not** have the correct indendation, one of two things will occur:\n",
        "1. Only a portion of them will be executed.\n",
        "2. An **IndentationError** will be generated."
      ]
    },
    {
      "cell_type": "code",
      "execution_count": null,
      "id": "faf31bac",
      "metadata": {
        "id": "faf31bac"
      },
      "outputs": [],
      "source": []
    },
    {
      "cell_type": "code",
      "execution_count": null,
      "id": "07ab62e8",
      "metadata": {
        "id": "07ab62e8"
      },
      "outputs": [],
      "source": []
    },
    {
      "cell_type": "markdown",
      "id": "f0ccbb9e",
      "metadata": {
        "id": "f0ccbb9e"
      },
      "source": [
        "### Important: Data Types play a critical role in Equality/Inequality Tests"
      ]
    },
    {
      "cell_type": "code",
      "execution_count": null,
      "id": "0c2eb24b",
      "metadata": {
        "id": "0c2eb24b"
      },
      "outputs": [],
      "source": []
    },
    {
      "cell_type": "code",
      "execution_count": null,
      "id": "dd3334d1",
      "metadata": {
        "id": "dd3334d1"
      },
      "outputs": [],
      "source": []
    },
    {
      "cell_type": "markdown",
      "id": "237abc5a",
      "metadata": {
        "id": "237abc5a"
      },
      "source": [
        "### Practice 3: Data Types and Conversion\n",
        "Recall that `type` may be used to return the data type of a variable or expression in Python.\n",
        "You are to take separate, differing actions depending upon the type of an input provide by a user as follows:\n",
        "* If the user's input is an **integer**, you should output the input number _squared_.\n",
        "* If the user's input is a **float**, you should _round_ the number and print the result.\n",
        "* If the user's input is a **string**, you should print the _length_ of the input string."
      ]
    },
    {
      "cell_type": "code",
      "execution_count": null,
      "id": "364ecb0c",
      "metadata": {
        "id": "364ecb0c"
      },
      "outputs": [],
      "source": []
    },
    {
      "cell_type": "markdown",
      "id": "986b5b71",
      "metadata": {
        "id": "986b5b71"
      },
      "source": [
        "### Logical Operators\n",
        "* `and` - True if both operands are true\n",
        "* `or` - True if one of the operand is true\n",
        "* `not` - True if operand is false\n"
      ]
    },
    {
      "cell_type": "markdown",
      "id": "eea36330",
      "metadata": {
        "id": "eea36330"
      },
      "source": [
        "###  `and`\n",
        "* Ensure that two conditions are both `True` with the **Boolean `and` operator**.\n",
        "* _Truth table_ for the `and` operator:\n",
        "\n",
        "expression1 | expression2 | expression1 `and` expression2\n",
        ":-------- | :-------- | :--------\n",
        "`False` \t| `False` \t| `False`\n",
        "`False` \t| `True`  \t| `False`\n",
        "`True`  \t| `False` \t| `False`\n",
        "`True`  \t| `True`  \t| `True`  "
      ]
    },
    {
      "cell_type": "code",
      "execution_count": null,
      "id": "1b6b7fd9",
      "metadata": {
        "id": "1b6b7fd9"
      },
      "outputs": [],
      "source": []
    },
    {
      "cell_type": "code",
      "execution_count": null,
      "id": "27934993",
      "metadata": {
        "id": "27934993"
      },
      "outputs": [],
      "source": []
    },
    {
      "cell_type": "markdown",
      "id": "264e5767",
      "metadata": {
        "id": "264e5767"
      },
      "source": [
        "###  `or`\n",
        "* Ensure that one _or_ both of two conditions are `True` with the **Boolean `or` operator**.\n",
        "\n",
        "* _Truth table_ for the `or` operator:\n",
        "\n",
        "expression1 | expression2 | expression1 or expression2\n",
        ":-------- | :-------- | :--------\n",
        "`False` \t| `False` \t| `False`\n",
        "`False` \t| `True` \t| `True`\n",
        "`True` \t| `False` \t| `True`\n",
        "`True` \t| `True` \t| `True`"
      ]
    },
    {
      "cell_type": "code",
      "execution_count": null,
      "id": "f4a703ad",
      "metadata": {
        "id": "f4a703ad"
      },
      "outputs": [],
      "source": []
    },
    {
      "cell_type": "code",
      "execution_count": null,
      "id": "1945a888",
      "metadata": {
        "id": "1945a888"
      },
      "outputs": [],
      "source": []
    },
    {
      "cell_type": "markdown",
      "id": "4b5eff09",
      "metadata": {
        "id": "4b5eff09"
      },
      "source": [
        "### With the exception of senior citizens adults in the US must pay taxes if 1. they are not somebody else's dependent and 2. They make in excess of a certain  threshold (ex: \\$13000)\n",
        "Let's write a short program that tells someone providing their income and whether or not they are somebody's dependent whether or not they have to file taxes."
      ]
    },
    {
      "cell_type": "code",
      "execution_count": null,
      "id": "0519b56c",
      "metadata": {
        "id": "0519b56c"
      },
      "outputs": [],
      "source": []
    },
    {
      "cell_type": "markdown",
      "id": "ad68da08",
      "metadata": {
        "id": "ad68da08"
      },
      "source": [
        "### Short-circuited operators\n",
        "* The moment an expression that includes _ands_/_ors_ is **known** to be true or false, Python will stop evaluating the rest of the conditions."
      ]
    },
    {
      "cell_type": "code",
      "execution_count": null,
      "id": "139e26ab",
      "metadata": {
        "id": "139e26ab"
      },
      "outputs": [],
      "source": []
    },
    {
      "cell_type": "markdown",
      "id": "d3983e4a",
      "metadata": {
        "id": "d3983e4a"
      },
      "source": [
        "### Practice 4: Multiple `and` Operators In Testing\n",
        "You are to take a user's input and print back to them if they have input a **positive, even integer** using **only a single if statement.**\n",
        "Note this may be tricky, and you will probably want to rely on short-circuiting here.\n"
      ]
    },
    {
      "cell_type": "code",
      "execution_count": null,
      "id": "bf49ecbc",
      "metadata": {
        "id": "bf49ecbc"
      },
      "outputs": [],
      "source": []
    },
    {
      "cell_type": "markdown",
      "id": "b483484b",
      "metadata": {
        "id": "b483484b"
      },
      "source": [
        "### if ... else Statement\n",
        "We can use an `if-else` statement to choose directly between one of two outcomes.  In effect, one of two events will occur:\n",
        "* If the condition(s) in the **if** clause is matched, the statements in its suite will be executed.\n",
        "* If the condition(s) in the **if** clause is **not** matched, the statements in the suite for the **else** clause will be executed.\n"
      ]
    },
    {
      "cell_type": "markdown",
      "id": "ea2f29f8",
      "metadata": {
        "id": "ea2f29f8"
      },
      "source": [
        "\n",
        "We can use the if-else statement to directly produce a solution for the grade flowchart:\n",
        "![image-2.png](attachment:image-2.png)"
      ]
    },
    {
      "cell_type": "code",
      "execution_count": null,
      "id": "c174a687",
      "metadata": {
        "id": "c174a687"
      },
      "outputs": [],
      "source": []
    },
    {
      "cell_type": "code",
      "execution_count": null,
      "id": "51e174d4",
      "metadata": {
        "id": "51e174d4"
      },
      "outputs": [],
      "source": []
    },
    {
      "cell_type": "markdown",
      "id": "2e97feb1",
      "metadata": {
        "id": "2e97feb1"
      },
      "source": [
        "### Checking Whether a Value Is `in` a List"
      ]
    },
    {
      "cell_type": "code",
      "execution_count": null,
      "id": "403f6c47",
      "metadata": {
        "id": "403f6c47"
      },
      "outputs": [],
      "source": [
        "We know that valid letter grades are 'A','B','C','D','F', and 'I'.\n",
        "We can use an if-else and the `in` keyword to let a user know if they input a valid letter grade."
      ]
    },
    {
      "cell_type": "code",
      "execution_count": null,
      "id": "8e711a2a",
      "metadata": {
        "id": "8e711a2a"
      },
      "outputs": [],
      "source": []
    },
    {
      "cell_type": "code",
      "execution_count": null,
      "id": "ca4d9ec8",
      "metadata": {
        "id": "ca4d9ec8"
      },
      "outputs": [],
      "source": []
    },
    {
      "cell_type": "markdown",
      "id": "0e2d1d18",
      "metadata": {
        "id": "0e2d1d18"
      },
      "source": [
        "### `if`…`else` and `if`…`elif`…`else` Statements\n",
        "* Performs different suites, based on whether a condition is `True` or `False`.\n",
        "![image.png](attachment:image.png)"
      ]
    },
    {
      "cell_type": "markdown",
      "id": "3fcd453c",
      "metadata": {
        "id": "3fcd453c"
      },
      "source": [
        "### Suppose  admission has a cost varying on a person's age as follows:\n",
        "* Admission for anyone under 4 years old is free.\n",
        "* Admission for anyone between the ages of 4 and 18 is \\$5\n",
        "* Admission for anyone age 18 or older is \\$10.\n",
        "We can use a simple if-elif-else statement to address this problem."
      ]
    },
    {
      "cell_type": "code",
      "execution_count": null,
      "id": "b4a25146",
      "metadata": {
        "id": "b4a25146",
        "colab": {
          "base_uri": "https://localhost:8080/"
        },
        "outputId": "e2691af0-01ea-4c74-e8bc-acab2224c556"
      },
      "outputs": [
        {
          "output_type": "stream",
          "name": "stdout",
          "text": [
            "Please input admitee age: 3\n",
            "Admission is free.\n"
          ]
        }
      ],
      "source": [
        "admitage = int(input('Please input admitee age: '))\n",
        "if (admitage < 4):\n",
        "  print('Admission is free.')\n",
        "elif (admitage < 18):\n",
        "  print('Admission is $5.')\n",
        "else:\n",
        "  print('Admission is $10.')"
      ]
    },
    {
      "cell_type": "code",
      "execution_count": null,
      "id": "68714b18",
      "metadata": {
        "id": "68714b18"
      },
      "outputs": [],
      "source": []
    },
    {
      "cell_type": "markdown",
      "id": "44f0e73d",
      "metadata": {
        "id": "44f0e73d"
      },
      "source": [
        "### We can also use if-elif-else statements to print a user's _letter grade_ based on the input _numeric grade_ they provide."
      ]
    },
    {
      "cell_type": "code",
      "execution_count": null,
      "id": "4f7835b9",
      "metadata": {
        "id": "4f7835b9",
        "colab": {
          "base_uri": "https://localhost:8080/"
        },
        "outputId": "d1363b8a-f48d-4f00-bdfe-cc1225815791"
      },
      "outputs": [
        {
          "output_type": "stream",
          "name": "stdout",
          "text": [
            "Please input your numeric grade: 0\n",
            "Your letter grade is: F\n"
          ]
        }
      ],
      "source": [
        "yourgrade = int(input('Please input your numeric grade: '))\n",
        "if (yourgrade >= 90):\n",
        "  lgrade = 'A'\n",
        "elif (yourgrade >= 80):\n",
        "  lgrade = 'B'\n",
        "elif (yourgrade >= 70):\n",
        "  lgrade = 'C'\n",
        "elif (yourgrade >= 60):\n",
        "  lgrade = 'D'\n",
        "else:\n",
        "  lgrade = 'F'\n",
        "print('Your letter grade is:', lgrade)"
      ]
    },
    {
      "cell_type": "code",
      "execution_count": null,
      "id": "42021d76",
      "metadata": {
        "id": "42021d76"
      },
      "outputs": [],
      "source": []
    },
    {
      "cell_type": "markdown",
      "id": "a9b7d93d",
      "metadata": {
        "id": "a9b7d93d"
      },
      "source": [
        "### Practice 5: Age categories\n",
        "Write a program providing feedback about a person's with the following logic using a single series of if-elif-else statements as follows:\n",
        "* Take as input a person's age.\n",
        "* If the person is less than 2 years old, print a message that the person is a baby.\n",
        "* If the person is at least 2 years old but less than 4, print a message that the person is a toddler.\n",
        "* If the person is at least 4 years old but less than 13, print a message that the person is a kid.\n",
        "* If the person is at least 13 years old but less than 20, print a message that the person is a teenager.\n",
        "* If the person is at least 20 years old but less than 65, print a message that the person is an adult.\n",
        "* If the person is age 65 or older, print a message that the person is an elder"
      ]
    },
    {
      "cell_type": "code",
      "execution_count": null,
      "id": "6f93f96e",
      "metadata": {
        "id": "6f93f96e",
        "colab": {
          "base_uri": "https://localhost:8080/"
        },
        "outputId": "d0e89b6c-9bb4-4dc6-afdd-a298ad17a144"
      },
      "outputs": [
        {
          "output_type": "stream",
          "name": "stdout",
          "text": [
            "Please input your age: 1\n",
            "You are a baby\n"
          ]
        }
      ],
      "source": [
        "age = int(input('Please input your age: '))\n",
        "if (age >=65):\n",
        "  status = 'elder'\n",
        "elif (age >=20):\n",
        "  status = 'adult'\n",
        "elif (age >=13):\n",
        "  status = ' teenager'\n",
        "elif (age >=4):\n",
        "  status = 'kid'\n",
        "elif (age >=2):\n",
        "  status = 'toddler'\n",
        "else:\n",
        "    status = 'baby'\n",
        "print('You are a', status)"
      ]
    },
    {
      "cell_type": "markdown",
      "id": "2acfa6a9",
      "metadata": {
        "id": "2acfa6a9"
      },
      "source": [
        "## Nested if conditions:\n",
        "A nested IF is just two more IF statements in a formula, where one IF statement appears inside the other.\n",
        "* Example:<br>\n",
        "if (condition 1): <br>\n",
        "&emsp;\\<statement 1\\> <br>\n",
        "&emsp;if (condition 2): <br>\n",
        "&emsp;&emsp;\\<statement 2\\> <br>"
      ]
    },
    {
      "cell_type": "markdown",
      "id": "c22cb544",
      "metadata": {
        "id": "c22cb544"
      },
      "source": [
        "### We can get an input number from a user and test whether it is both even and positive using a set of nested `if` statements."
      ]
    },
    {
      "cell_type": "code",
      "execution_count": null,
      "id": "f8848383",
      "metadata": {
        "id": "f8848383",
        "colab": {
          "base_uri": "https://localhost:8080/"
        },
        "outputId": "4866c43f-9f9b-4c1b-92ca-ba5016c837ac"
      },
      "outputs": [
        {
          "output_type": "stream",
          "name": "stdout",
          "text": [
            "Please input a number: 1\n",
            "The number 1 is positive.\n",
            "The number 1 is positive, but odd.\n"
          ]
        }
      ],
      "source": [
        "mynum = int(input('Please input a number: '))\n",
        "if mynum > 0:\n",
        "  print('The number', mynum, 'is positive.')\n",
        "  if mynum % 2 == 0:\n",
        "    print('The number', mynum, 'is both positive and even.')\n",
        "  else:\n",
        "      print('The number', mynum, 'is positive, but odd.')"
      ]
    },
    {
      "cell_type": "code",
      "execution_count": null,
      "id": "4d3c3d21",
      "metadata": {
        "id": "4d3c3d21",
        "colab": {
          "base_uri": "https://localhost:8080/"
        },
        "outputId": "1448e727-5a9a-47ac-ae3e-89d47747a418"
      },
      "outputs": [
        {
          "output_type": "stream",
          "name": "stdout",
          "text": [
            "Please input a number: 2\n",
            "The number 2 is both positive and even.\n"
          ]
        }
      ],
      "source": [
        "mynum = int(input('Please input a number: '))\n",
        "if mynum > 0 & mynum % 2 == 0:\n",
        "    print('The number', mynum, 'is both positive and even.')"
      ]
    },
    {
      "cell_type": "markdown",
      "id": "f3a4bfc8",
      "metadata": {
        "id": "f3a4bfc8"
      },
      "source": [
        "### We can also use a series of nested `if-else` statements to compute the largest of three numbers.                         "
      ]
    },
    {
      "cell_type": "code",
      "execution_count": null,
      "id": "8d8293bb",
      "metadata": {
        "id": "8d8293bb",
        "colab": {
          "base_uri": "https://localhost:8080/"
        },
        "outputId": "89eb409e-302a-4a12-8062-d0dd173c5169"
      },
      "outputs": [
        {
          "name": "stdout",
          "output_type": "stream",
          "text": [
            "Please input the first number: 20\n",
            "Please input the second number: 99\n",
            "Please input the third number: 1\n"
          ]
        }
      ],
      "source": [
        "mynum1 = input('Please input the first number: '); mynum2 = input('Please input the second number: ');\n",
        "mynum3 = input('Please input the third number: ')"
      ]
    },
    {
      "cell_type": "code",
      "execution_count": null,
      "id": "a81cdcdf",
      "metadata": {
        "id": "a81cdcdf",
        "colab": {
          "base_uri": "https://localhost:8080/"
        },
        "outputId": "3aa2d901-3a2c-450f-ae96-35fc616fa6b1"
      },
      "outputs": [
        {
          "output_type": "stream",
          "name": "stdout",
          "text": [
            "99\n"
          ]
        }
      ],
      "source": [
        "if mynum1 > mynum2:\n",
        "  if mynum1 > mynum3:\n",
        "    print(mynum1)\n",
        "  else:\n",
        "    print(mynum3)\n",
        "else:\n",
        "  if mynum2 > mynum3:\n",
        "    print(mynum2)\n",
        "  else:\n",
        "    print(mynum3)"
      ]
    },
    {
      "cell_type": "code",
      "execution_count": null,
      "id": "6033797d",
      "metadata": {
        "id": "6033797d"
      },
      "outputs": [],
      "source": []
    },
    {
      "cell_type": "markdown",
      "id": "4b3e2ae9",
      "metadata": {
        "id": "4b3e2ae9"
      },
      "source": [
        "### Practice 6: Nested if/if-else conditions And Application Requirements:\n",
        "- FBI special agency requires (or at one point required) its applicants to 1. be a US Citizen, 2. be between 23 and 37 years old, and 3. to have an undergraduate degree or higher.\n",
        "- Write a program that does the following:\n",
        "    1. Requests user input for if they are a US citizen (\"yes\"/\"no\"), age (numeric),  and if they have an undergraduate degree (\"yes\"/\"no\")\n",
        "    2. Checks if they are a US citizen.  If not, outputs \"Sorry -- only US citizens may apply.\"  Otherwise,\n",
        "    3. Checks if they are between 23 and 37.  If not, outputs \"Sorry -- you must be between 23 and 37 years old to apply.\"  Otherwise,\n",
        "    4. Checks if they have an undergraduate degree.  If not, outputs \"Sorry -- you must have a university degree to apply.\"  Otehrwise,\n",
        "    5. If they pass all requirements, output: \"You meet all requirements for eligibility and may apply.\"\n"
      ]
    },
    {
      "cell_type": "code",
      "execution_count": null,
      "id": "5af355b3",
      "metadata": {
        "id": "5af355b3",
        "colab": {
          "base_uri": "https://localhost:8080/"
        },
        "outputId": "1ad6ce80-e2fb-4c29-b667-cf2ad1d87f10"
      },
      "outputs": [
        {
          "output_type": "stream",
          "name": "stdout",
          "text": [
            "Are you a US citizen? (yes/no)yes\n",
            "Please input your age: 35\n",
            "Do you have an undergraduate degree? (yes/no)yes\n",
            "You meet all requirements for eligibility and may apply.\n"
          ]
        }
      ],
      "source": [
        "del input\n",
        "uscitizen = input('Are you a US citizen? (yes/no)')\n",
        "age = int(input('Please input your age: '))\n",
        "degree = input('Do you have an undergraduate degree? (yes/no)')\n",
        "\n",
        "if uscitizen == 'no':\n",
        "  print('Sorry -- only US citizens may apply.')\n",
        "elif age < 23 or age > 37:\n",
        "  print('Sorry -- you must be between 23 and 37 years old to apply.')\n",
        "elif degree == 'no':\n",
        "  print('Sorry -- you must have a university degree to apply.')\n",
        "else:\n",
        "  print('You meet all requirements for eligibility and may apply.')"
      ]
    },
    {
      "cell_type": "code",
      "execution_count": null,
      "id": "a4015059",
      "metadata": {
        "id": "a4015059"
      },
      "outputs": [],
      "source": []
    }
  ],
  "metadata": {
    "kernelspec": {
      "display_name": "Python 3 (ipykernel)",
      "language": "python",
      "name": "python3"
    },
    "language_info": {
      "codemirror_mode": {
        "name": "ipython",
        "version": 3
      },
      "file_extension": ".py",
      "mimetype": "text/x-python",
      "name": "python",
      "nbconvert_exporter": "python",
      "pygments_lexer": "ipython3",
      "version": "3.9.16"
    },
    "colab": {
      "provenance": [],
      "include_colab_link": true
    }
  },
  "nbformat": 4,
  "nbformat_minor": 5
}