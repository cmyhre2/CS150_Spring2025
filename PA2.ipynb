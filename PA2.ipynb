{
  "nbformat": 4,
  "nbformat_minor": 0,
  "metadata": {
    "colab": {
      "provenance": [],
      "authorship_tag": "ABX9TyMXWQqINuqyV0o43omJv/H5",
      "include_colab_link": true
    },
    "kernelspec": {
      "name": "python3",
      "display_name": "Python 3"
    },
    "language_info": {
      "name": "python"
    }
  },
  "cells": [
    {
      "cell_type": "markdown",
      "metadata": {
        "id": "view-in-github",
        "colab_type": "text"
      },
      "source": [
        "<a href=\"https://colab.research.google.com/github/cmyhre2/CS150_Spring2025/blob/Programming-Assignments/PA2.ipynb\" target=\"_parent\"><img src=\"https://colab.research.google.com/assets/colab-badge.svg\" alt=\"Open In Colab\"/></a>"
      ]
    },
    {
      "cell_type": "markdown",
      "source": [
        "#Assignment 2: Basic Python Programming\n",
        "###Chris Myhre\n",
        "####Spring 2025"
      ],
      "metadata": {
        "id": "92Inbv9nvAQu"
      }
    },
    {
      "cell_type": "markdown",
      "source": [
        "###Task 1: Personal Information"
      ],
      "metadata": {
        "id": "4We-UFTEwKJc"
      }
    },
    {
      "cell_type": "code",
      "execution_count": 1,
      "metadata": {
        "colab": {
          "base_uri": "https://localhost:8080/"
        },
        "id": "S6nV1slciZ8m",
        "outputId": "9f66594c-ca56-46c0-9285-2120f384706a"
      },
      "outputs": [
        {
          "output_type": "stream",
          "name": "stdout",
          "text": [
            "My name is Chris, I am pursuing a degree in Computer Science, my favorite game is Minecraft and my hometown is Louisville.\n"
          ]
        }
      ],
      "source": [
        "name = 'Chris'\n",
        "major = 'Computer Science'\n",
        "favorite_game = 'Minecraft'\n",
        "hometown = 'Louisville'\n",
        "print('My name is ' + name + ', I am pursuing a degree in ' + major + ', my favorite game is ' + favorite_game + ' and my hometown is ' + hometown + '.')"
      ]
    },
    {
      "cell_type": "markdown",
      "source": [
        "###Task 2: Temperature Comversion"
      ],
      "metadata": {
        "id": "9IRFOADFwOnk"
      }
    },
    {
      "cell_type": "code",
      "source": [
        "farenheit_temp = 32\n",
        "celsius_temp = (farenheit_temp - 32) * 5/9\n",
        "print('The temperature is ' + str(farenheit_temp) + '°F, which is the equivalent to ' + str(celsius_temp) + '°C.')"
      ],
      "metadata": {
        "colab": {
          "base_uri": "https://localhost:8080/"
        },
        "id": "-KD_suX4wWH_",
        "outputId": "ac3f7af7-7d03-4342-bb47-e5978d431ac2"
      },
      "execution_count": 3,
      "outputs": [
        {
          "output_type": "stream",
          "name": "stdout",
          "text": [
            "The temperature is 32°F, which is the equivalent to 0.0°C.\n"
          ]
        }
      ]
    },
    {
      "cell_type": "markdown",
      "source": [
        "###Task 3: Simple Calculator"
      ],
      "metadata": {
        "id": "jlG7lF70xA_P"
      }
    },
    {
      "cell_type": "code",
      "source": [
        "num1 = 10\n",
        "num2 = 20\n",
        "print('The sum of the two numbers is ' + str(num1+num2))\n",
        "print('The difference between the two numbers is ' + str(num2-num1))\n",
        "print('The product of the two numbers is ' + str(num1*num2))\n",
        "print('The quotient of the two numbers are ' + str(num1/num2))"
      ],
      "metadata": {
        "colab": {
          "base_uri": "https://localhost:8080/"
        },
        "id": "WiUxJW43xCXq",
        "outputId": "1e4cfa0e-b724-459d-fe21-0209f0e80dff"
      },
      "execution_count": 11,
      "outputs": [
        {
          "output_type": "stream",
          "name": "stdout",
          "text": [
            "The sum of the two numbers is 30\n",
            "The difference between the two numbers is 10\n",
            "The product of the two numbers is 200\n",
            "The quotient of the two numbers are 0.5\n"
          ]
        }
      ]
    },
    {
      "cell_type": "markdown",
      "source": [
        "###Task 4: String Manipulation"
      ],
      "metadata": {
        "id": "o_EjN5s7x9Dn"
      }
    },
    {
      "cell_type": "code",
      "source": [
        "quote = 'The time is always right to do what is right. -Dr. MLK Jr'\n",
        "print('Quote Length: ' + str(len(quote)))\n",
        "print(quote.upper())\n",
        "print(quote.lower())\n",
        "print(quote.split())"
      ],
      "metadata": {
        "colab": {
          "base_uri": "https://localhost:8080/"
        },
        "id": "M6DwadtCyCzK",
        "outputId": "3a186588-4ee3-4e4b-8f75-631d1cc08c40"
      },
      "execution_count": 17,
      "outputs": [
        {
          "output_type": "stream",
          "name": "stdout",
          "text": [
            "Quote Length: 57\n",
            "THE TIME IS ALWAYS RIGHT TO DO WHAT IS RIGHT. -DR. MLK JR\n",
            "the time is always right to do what is right. -dr. mlk jr\n",
            "['The', 'time', 'is', 'always', 'right', 'to', 'do', 'what', 'is', 'right.', '-Dr.', 'MLK', 'Jr']\n"
          ]
        }
      ]
    },
    {
      "cell_type": "markdown",
      "source": [
        "###Task 5: User Input and Operations"
      ],
      "metadata": {
        "id": "7cb-P3f2yx4P"
      }
    },
    {
      "cell_type": "code",
      "source": [
        "prompt = 'Please enter the length, width and height of a cuboid'\n",
        "print(prompt)\n",
        "length = float(input('Length: '))\n",
        "width = float(input('Width: '))\n",
        "height = float(input('Height: '))\n",
        "volume = length * width * height\n",
        "print('The volume of your cuboid is ' + str(round(volume,2)) + ' units.')"
      ],
      "metadata": {
        "colab": {
          "base_uri": "https://localhost:8080/"
        },
        "id": "BeW7a6V_yzHK",
        "outputId": "899826f9-ac81-431e-a314-8885e68797b7"
      },
      "execution_count": 23,
      "outputs": [
        {
          "output_type": "stream",
          "name": "stdout",
          "text": [
            "Please enter the length, width and height of a cuboid\n",
            "Length: 5.67\n",
            "Width: 5.67\n",
            "Height: 5.67\n",
            "The volume of your cuboid is 182.28 units.\n"
          ]
        }
      ]
    }
  ]
}