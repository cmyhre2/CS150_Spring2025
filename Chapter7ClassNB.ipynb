{
  "cells": [
    {
      "cell_type": "markdown",
      "metadata": {
        "id": "view-in-github",
        "colab_type": "text"
      },
      "source": [
        "<a href=\"https://colab.research.google.com/github/cmyhre2/CS150_Spring2025/blob/Class-Notebooks/Chapter7ClassNB.ipynb\" target=\"_parent\"><img src=\"https://colab.research.google.com/assets/colab-badge.svg\" alt=\"Open In Colab\"/></a>"
      ]
    },
    {
      "cell_type": "markdown",
      "metadata": {
        "id": "TBG9H3uft8zy"
      },
      "source": [
        "## What We Looked At Last Time\n",
        "* We looked in our last module at the necessity of using **conditional statements** to make decisions within code.\n",
        "* Throughout the process, we saw examples of simple **if** statements, as well as the slightly more nuanced **if-else** and **if-elif-else** statements.\n",
        "* Along the way, we looked in more detail at comparison operators (`==`, `!=`, `>=`, etc.), as well as the principal logical operators (**and**, **or**, **not**)."
      ]
    },
    {
      "cell_type": "markdown",
      "metadata": {
        "id": "2q-HcHYnt8z2"
      },
      "source": [
        "## What We'll Look At In This Module\n",
        "* We'll move today into a discussion of **repetition** statements\n",
        "* More specifically, we look at the syntax and examples of **while** loops and **for** loops.\n",
        "* Along the way we'll touch on complications that can pop up when constructing loops (ex: infinite looping)."
      ]
    },
    {
      "cell_type": "code",
      "source": [
        "print('The first multiple of 5 is ' + str(5*1))\n",
        "print('The second multiple of 5 is ' + str(5*2))\n",
        "print('The third multiple of 5 is ' + str(5*3))\n",
        "print('The fourth multiple of 5 is ' + str(5*4))\n",
        "print('The fifth multiple of 5 is ' + str(5*5))"
      ],
      "metadata": {
        "colab": {
          "base_uri": "https://localhost:8080/"
        },
        "id": "I9HpKLzluWLi",
        "outputId": "1ee21cb7-e535-4a22-ee57-955834644f1c"
      },
      "execution_count": null,
      "outputs": [
        {
          "output_type": "stream",
          "name": "stdout",
          "text": [
            "The first multiple of 5 is 5\n",
            "The second multiple of 5 is 10\n",
            "The third multiple of 5 is 15\n",
            "The fourth multiple of 5 is 20\n",
            "The fifth multiple of 5 is 25\n"
          ]
        }
      ]
    },
    {
      "cell_type": "code",
      "source": [
        "daysofweek = ['Sunday', 'Monday', 'Tuesday', 'Wednesday', 'Thursday', 'Friday', 'Saturday']\n",
        "print('Day 1 of the week is '+ daysofweek[0])\n",
        "print('Day 2 of the week is '+ daysofweek[1])"
      ],
      "metadata": {
        "colab": {
          "base_uri": "https://localhost:8080/"
        },
        "id": "_10PljHLu1FD",
        "outputId": "aca6ed30-1d73-44bd-cfe6-dd59cde70050"
      },
      "execution_count": null,
      "outputs": [
        {
          "output_type": "stream",
          "name": "stdout",
          "text": [
            "Day 1 of the week is Sunday\n",
            "Day 2 of the week is Monday\n"
          ]
        }
      ]
    },
    {
      "cell_type": "markdown",
      "metadata": {
        "id": "42jxo9MHt8z3"
      },
      "source": [
        "# While Loop\n",
        "* The while loop takes a collection of items and executes a block of code once for each item in the collection.\n",
        "* In contrast, the while loop runs as long as, or while, a certain condition is true.\n",
        "![image.png](attachment:image.png)"
      ]
    },
    {
      "cell_type": "markdown",
      "metadata": {
        "id": "XOsGGj_ct8z4"
      },
      "source": [
        "#### The while Loop in Action\n",
        "You can use a while loop to count up through a series of numbers. For\n",
        "example, the following while loop counts from 1 to 5:\n"
      ]
    },
    {
      "cell_type": "code",
      "execution_count": null,
      "metadata": {
        "colab": {
          "base_uri": "https://localhost:8080/"
        },
        "id": "MVPwOtFxt8z4",
        "outputId": "2d632eea-a81c-4f98-80e0-abadffb48f10"
      },
      "outputs": [
        {
          "output_type": "stream",
          "name": "stdout",
          "text": [
            "1\n",
            "2\n",
            "3\n",
            "4\n",
            "5\n"
          ]
        }
      ],
      "source": [
        "# while loop to print numbers from 1 to 5\n",
        "mycount = 1\n",
        "while mycount <= 5:\n",
        "    print(mycount)\n",
        "    mycount = mycount + 1"
      ]
    },
    {
      "cell_type": "code",
      "execution_count": null,
      "metadata": {
        "id": "NUgzOrMnt8z6"
      },
      "outputs": [],
      "source": [
        "#What happens if we leave off the increment portion (mycount = mycount + 1)?"
      ]
    },
    {
      "cell_type": "code",
      "execution_count": null,
      "metadata": {
        "colab": {
          "base_uri": "https://localhost:8080/"
        },
        "id": "jQdmFsXyt8z6",
        "outputId": "53bd7ab5-dfc9-46a7-a625-66c4d265d70e"
      },
      "outputs": [
        {
          "output_type": "stream",
          "name": "stdout",
          "text": [
            "10 11 12 13 14 15 16 17 18 19 20 21 22 23 24 25 26 27 28 29 30 31 32 33 34 35 36 37 38 39 40 41 42 43 44 45 46 47 48 49 50 "
          ]
        }
      ],
      "source": [
        "# We can print a much wider array of numbers if needed (ex: 10 through 50)\n",
        "mycount = 10\n",
        "while mycount <= 50:\n",
        "    print(mycount, end = ' ')\n",
        "    mycount = mycount + 1"
      ]
    },
    {
      "cell_type": "code",
      "execution_count": null,
      "metadata": {
        "colab": {
          "base_uri": "https://localhost:8080/"
        },
        "id": "3iOa30MKt8z7",
        "outputId": "6b46edb5-5342-495b-a90e-381dacbd58cf"
      },
      "outputs": [
        {
          "output_type": "stream",
          "name": "stdout",
          "text": [
            "10 12 14 16 18 20 22 24 26 28 30 32 34 36 38 40 42 44 46 48 50 "
          ]
        }
      ],
      "source": [
        "#We can print specific numbers within the context of a loop (ex: even numbers between 10 and 50)\n",
        "mycount = 10\n",
        "while mycount <= 50:\n",
        "    print(mycount, end = ' ')\n",
        "    mycount = mycount + 2"
      ]
    },
    {
      "cell_type": "code",
      "execution_count": null,
      "metadata": {
        "colab": {
          "base_uri": "https://localhost:8080/"
        },
        "id": "RAKSUjECt8z8",
        "outputId": "39538730-e91d-48fb-8f98-685b10fa0e86"
      },
      "outputs": [
        {
          "output_type": "stream",
          "name": "stdout",
          "text": [
            "5 4 3 2 1 0 "
          ]
        }
      ],
      "source": [
        "#We can also count DOWN using while loops.\n",
        "mycountdown = 5\n",
        "while mycountdown >= 0:\n",
        "    print(mycountdown, end = ' ')\n",
        "    mycountdown = mycountdown - 1"
      ]
    },
    {
      "cell_type": "code",
      "execution_count": null,
      "metadata": {
        "colab": {
          "base_uri": "https://localhost:8080/"
        },
        "id": "iCyD1nBFt8z9",
        "outputId": "a0d4ea51-6098-4323-95d1-431d33495f27"
      },
      "outputs": [
        {
          "output_type": "stream",
          "name": "stdout",
          "text": [
            "0 3 6 9 12 15 18 21 24 27 30 33 36 39 42 45 48 "
          ]
        }
      ],
      "source": [
        "#We can use loops to print all multiples of 3 that are less than a particular number (ex: 50)\n",
        "product = 0\n",
        "while product < 50:\n",
        "    print(product, end = ' ')\n",
        "    product = product + 3"
      ]
    },
    {
      "cell_type": "markdown",
      "metadata": {
        "id": "bDOppXS2t8z-"
      },
      "source": [
        "## Practice 1: A Bit of Math and While Loops\n",
        "Use while loops to do each of the following: <br>\n",
        "i. Print all the numbers from 20 down to 10.<br>\n",
        "ii. Print all numeric squares (0, 1, 4, 9, 16, 25, etc.) less than 10^2 <br>\n",
        "iii. Print all the _two-digit_ multiples of 10 in reverse order.\n",
        "\n"
      ]
    },
    {
      "cell_type": "code",
      "execution_count": null,
      "metadata": {
        "colab": {
          "base_uri": "https://localhost:8080/"
        },
        "id": "Kzd_sgv_t8z_",
        "outputId": "933350cd-f136-4291-e747-e51cdfb7b52c"
      },
      "outputs": [
        {
          "output_type": "stream",
          "name": "stdout",
          "text": [
            "20 19 18 17 16 15 14 13 12 11 10 "
          ]
        }
      ],
      "source": [
        "number = 20\n",
        "while number >= 10:\n",
        "  print(number, end = ' ')\n",
        "  number = number - 1"
      ]
    },
    {
      "cell_type": "code",
      "source": [
        "square = 0\n",
        "while square < 10:\n",
        "  print(str(square**2), end = ' ')\n",
        "  square = square + 1"
      ],
      "metadata": {
        "colab": {
          "base_uri": "https://localhost:8080/"
        },
        "id": "NB0msL8-zlD_",
        "outputId": "2e6e521d-e078-4441-8c40-8fbe14aee7ef"
      },
      "execution_count": null,
      "outputs": [
        {
          "output_type": "stream",
          "name": "stdout",
          "text": [
            "0 1 4 9 16 25 36 49 64 81 "
          ]
        }
      ]
    },
    {
      "cell_type": "code",
      "source": [
        "multiple = 9\n",
        "while multiple >= 0:\n",
        "  print(str(multiple*10), end = ' ')\n",
        "  multiple = multiple - 1"
      ],
      "metadata": {
        "colab": {
          "base_uri": "https://localhost:8080/"
        },
        "id": "UGqzET8azoRm",
        "outputId": "3fac6ca2-cca2-4b75-85c7-c405b23b90a2"
      },
      "execution_count": null,
      "outputs": [
        {
          "output_type": "stream",
          "name": "stdout",
          "text": [
            "90 80 70 60 50 40 30 20 10 0 "
          ]
        }
      ]
    },
    {
      "cell_type": "markdown",
      "metadata": {
        "id": "djydI2-5t8z_"
      },
      "source": [
        "## Conditional and Repetition Statements\n",
        "* It is common to use conditional statements and repetition statements in conjunction with each other.\n",
        "* One simple option is to only execute a given while loop if a particular \"starting\" condition is met\n",
        "* Even more commonly, however, we will embed an if statement within a loop"
      ]
    },
    {
      "cell_type": "code",
      "execution_count": null,
      "metadata": {
        "colab": {
          "base_uri": "https://localhost:8080/"
        },
        "id": "u9uVM5Zyt80A",
        "outputId": "9354c123-e260-4d02-e18b-3c7c41390985"
      },
      "outputs": [
        {
          "output_type": "stream",
          "name": "stdout",
          "text": [
            "Please input an integer: 5\n",
            "1 2 3 4 5 "
          ]
        }
      ],
      "source": [
        "# Count from 1 up to a given input value, but only if that value is POSITIVE\n",
        "inputval = int(input('Please input an integer: '))\n",
        "if inputval < 1:\n",
        "  print('I can\\'t count up to that value.')\n",
        "else:\n",
        "  mycount = 1\n",
        "  while mycount <= inputval:\n",
        "    print(mycount, end = ' ')\n",
        "    mycount = mycount + 1"
      ]
    },
    {
      "cell_type": "code",
      "execution_count": null,
      "metadata": {
        "colab": {
          "base_uri": "https://localhost:8080/"
        },
        "id": "Q1sFHywQt80A",
        "outputId": "0acb765a-6aeb-4ec7-a9c5-eae004045fc1"
      },
      "outputs": [
        {
          "output_type": "stream",
          "name": "stdout",
          "text": [
            "Please input an integer: 6\n",
            "2 4 6 "
          ]
        }
      ],
      "source": [
        "# We can repeat our previous exercise involving even numbers using an if-statement within a while loop\n",
        "inputval = int(input('Please input an integer: '))\n",
        "if inputval < 1:\n",
        "  print('I can\\'t count up to that value.')\n",
        "else:\n",
        "  mycount = 1\n",
        "  while mycount <= inputval:\n",
        "    if mycount % 2 == 0:\n",
        "      print(mycount, end = ' ')\n",
        "    mycount = mycount + 1"
      ]
    },
    {
      "cell_type": "code",
      "execution_count": null,
      "metadata": {
        "colab": {
          "base_uri": "https://localhost:8080/"
        },
        "id": "MduHThLPt80B",
        "outputId": "1ebe1ddc-0942-40bc-9ac8-14c526db756e"
      },
      "outputs": [
        {
          "output_type": "stream",
          "name": "stdout",
          "text": [
            "Please input an integer: 6\n",
            "1 3 5 "
          ]
        }
      ],
      "source": [
        "# With a very simple change, we can modify our previous set of statements to accomodate odd numbers instead of even\n",
        "inputval = int(input('Please input an integer: '))\n",
        "if inputval < 1:\n",
        "  print('I can\\'t count up to that value.')\n",
        "else:\n",
        "  mycount = 1\n",
        "  while mycount <= inputval:\n",
        "    if mycount % 2 == 1:\n",
        "      print(mycount, end = ' ')\n",
        "    mycount = mycount + 1"
      ]
    },
    {
      "cell_type": "markdown",
      "metadata": {
        "id": "m37ZCfcLt80B"
      },
      "source": [
        "## Practice 2: Using While/If Combinations\n",
        "Use while loops and if statements to accomplish each of the following tasks:\n",
        "i. Print all even numbers starting at 100 and going down to 0.\n",
        "ii. Print all three-digit, positive multiples of 5\n",
        "iii. (Optional) See if you can repeat (ii) without an if statement\n",
        "\n",
        "\n"
      ]
    },
    {
      "cell_type": "code",
      "execution_count": null,
      "metadata": {
        "colab": {
          "base_uri": "https://localhost:8080/"
        },
        "id": "NrUfcNcft80C",
        "outputId": "0ec37ced-3ca0-4915-bbd4-53284139643a"
      },
      "outputs": [
        {
          "output_type": "stream",
          "name": "stdout",
          "text": [
            "100 98 96 94 92 90 88 86 84 82 80 78 76 74 72 70 68 66 64 62 60 58 56 54 52 50 48 46 44 42 40 38 36 34 32 30 28 26 24 22 20 18 16 14 12 10 8 6 4 2 0 "
          ]
        }
      ],
      "source": [
        "number = 100\n",
        "while number >= 0:\n",
        "  print(number, end = ' ')\n",
        "  number = number - 2"
      ]
    },
    {
      "cell_type": "code",
      "source": [],
      "metadata": {
        "id": "qhMJkLDO37VZ"
      },
      "execution_count": null,
      "outputs": []
    },
    {
      "cell_type": "code",
      "source": [
        "multiple2 = 20\n",
        "while multiple2 < 200:\n",
        "  print(str(multiple2*5), end = ' ')\n",
        "  multiple2 = multiple2 + 1"
      ],
      "metadata": {
        "id": "PI-ariMj37oR",
        "colab": {
          "base_uri": "https://localhost:8080/"
        },
        "outputId": "09b4d088-3c22-4197-a834-9d2ecfc0486e"
      },
      "execution_count": null,
      "outputs": [
        {
          "output_type": "stream",
          "name": "stdout",
          "text": [
            "100 105 110 115 120 125 130 135 140 145 150 155 160 165 170 175 180 185 190 195 200 205 210 215 220 225 230 235 240 245 250 255 260 265 270 275 280 285 290 295 300 305 310 315 320 325 330 335 340 345 350 355 360 365 370 375 380 385 390 395 400 405 410 415 420 425 430 435 440 445 450 455 460 465 470 475 480 485 490 495 500 505 510 515 520 525 530 535 540 545 550 555 560 565 570 575 580 585 590 595 600 605 610 615 620 625 630 635 640 645 650 655 660 665 670 675 680 685 690 695 700 705 710 715 720 725 730 735 740 745 750 755 760 765 770 775 780 785 790 795 800 805 810 815 820 825 830 835 840 845 850 855 860 865 870 875 880 885 890 895 900 905 910 915 920 925 930 935 940 945 950 955 960 965 970 975 980 985 990 995 "
          ]
        }
      ]
    },
    {
      "cell_type": "markdown",
      "metadata": {
        "id": "VDsLbj7It80D"
      },
      "source": [
        "## Repetition Statements and Counter/Cumulation Variables\n",
        "* A traditional practice in programming is to keep track of the number of times a while loop has executed in a separate variable\n",
        "* This becomes useful in a scenario where we are not simply counting up from 1 to a particular maximum.\n",
        "* In addition, we can use these extra variables to **cumulate** values involving a loop.  "
      ]
    },
    {
      "cell_type": "code",
      "execution_count": null,
      "metadata": {
        "id": "xzP9PSqit80D",
        "colab": {
          "base_uri": "https://localhost:8080/"
        },
        "outputId": "bc2cf046-d926-4173-f765-808da9e00fd6"
      },
      "outputs": [
        {
          "output_type": "stream",
          "name": "stdout",
          "text": [
            "10\n",
            "9\n",
            "8\n",
            "7\n",
            "6\n",
            "5\n",
            "4\n",
            "3\n",
            "2\n",
            "1\n",
            "0\n",
            "The loop was executed 11 times.\n"
          ]
        }
      ],
      "source": [
        "# Count the number of times we have run through a countdown loop\n",
        "mycounter = 0\n",
        "mynumber = 10\n",
        "while mynumber >= 0:\n",
        "    print(mynumber)\n",
        "    mynumber = mynumber - 1\n",
        "    mycounter = mycounter + 1\n",
        "print('The loop was executed ' + str(mycounter) + ' times.')"
      ]
    },
    {
      "cell_type": "code",
      "execution_count": null,
      "metadata": {
        "id": "KLhd6DIft80E",
        "colab": {
          "base_uri": "https://localhost:8080/"
        },
        "outputId": "0c45f1c1-6a2e-4605-e9da-51ba6560aa26"
      },
      "outputs": [
        {
          "output_type": "stream",
          "name": "stdout",
          "text": [
            "1 3 5 7 9 11 13 15 17 19 21 23 25 27 29 31 33 35 37 39 41 43 45 47 49 51 53 55 57 59 61 63 65 67 69 71 73 75 77 79 81 83 85 87 89 91 93 95 97 99 The loop was executed 50 times.\n"
          ]
        }
      ],
      "source": [
        "# Print the odd numbers from 0 to 100, and count the total along the way\n",
        "mycounter = 0\n",
        "mynumber = 1\n",
        "while mynumber <= 100:\n",
        "    print(mynumber, end = ' ')\n",
        "    mynumber = mynumber + 2\n",
        "    mycounter = mycounter + 1\n",
        "print('The loop was executed ' + str(mycounter) + ' times.')"
      ]
    },
    {
      "cell_type": "code",
      "execution_count": null,
      "metadata": {
        "id": "0Ieqvz7Ct80E",
        "colab": {
          "base_uri": "https://localhost:8080/"
        },
        "outputId": "0ec6e0ba-80cc-48f9-8cc9-89caa06582e6"
      },
      "outputs": [
        {
          "output_type": "stream",
          "name": "stdout",
          "text": [
            "The sum of all numbers between 1 and 10 is 55\n"
          ]
        }
      ],
      "source": [
        "# Find the sum of ALL NUMBERS between 1 and 10\n",
        "mynumber = 1\n",
        "mysum = 0\n",
        "while mynumber <= 10:\n",
        "    mysum = mysum + mynumber\n",
        "    mynumber = mynumber + 1\n",
        "print('The sum of all numbers between 1 and 10 is ' + str(mysum))"
      ]
    },
    {
      "cell_type": "markdown",
      "metadata": {
        "id": "Y2LAfTC9t80E"
      },
      "source": [
        "## Practice 3: Using Counter Variables and While/If Combinations\n",
        "Use the things we have looked at today and recently to do each of the following (Use a print statement at the end for each to verify the total is correct): <br>\n",
        "i. Find the sum of all _even_ numbers between 1 and 20\n",
        "ii. Prompt the user for an input positive integer.  1. If the number they input is not positive, tell them \"Your number is not Positive. 2. If it is positive, print back the **product** of all numbers from 1 to whatever value they input.\n",
        "\n"
      ]
    },
    {
      "cell_type": "code",
      "execution_count": null,
      "metadata": {
        "id": "1f_ZL9aYt80F",
        "colab": {
          "base_uri": "https://localhost:8080/"
        },
        "outputId": "759b707c-175a-4179-8c3f-4712f051f13a"
      },
      "outputs": [
        {
          "output_type": "stream",
          "name": "stdout",
          "text": [
            "The sum of all even numbers between 1 and 20 is 100\n"
          ]
        }
      ],
      "source": [
        "mynumber = 1\n",
        "mysum = 0\n",
        "while mynumber <= 20:\n",
        "  mysum = mysum + mynumber\n",
        "  mynumber = mynumber + 2\n",
        "print('The sum of all even numbers between 1 and 20 is ' + str(mysum))"
      ]
    },
    {
      "cell_type": "code",
      "source": [
        "num = int(input('Please input a positive integer: '))\n",
        "if num < 1:\n",
        "  print('Your number is not positive.')\n",
        "else:\n",
        "  mynumber = 1\n",
        "  myproduct = 1\n",
        "  while mynumber <= num:\n",
        "    myproduct = myproduct * mynumber\n",
        "    mynumber = mynumber + 1\n",
        "print('The product of all numbers from 1 to ' + str(num) + ' is ' + str(myproduct))"
      ],
      "metadata": {
        "colab": {
          "base_uri": "https://localhost:8080/"
        },
        "id": "pZTG3wFDNrm-",
        "outputId": "d5981df7-08e5-4688-9af1-542a788c5ee1"
      },
      "execution_count": null,
      "outputs": [
        {
          "output_type": "stream",
          "name": "stdout",
          "text": [
            "Please input a positive integer: 6\n",
            "The product of all numbers from 1 to 6 is 720\n"
          ]
        }
      ]
    },
    {
      "cell_type": "markdown",
      "metadata": {
        "id": "r-hvlQWVt80F"
      },
      "source": [
        "## More on While Loops\n",
        "* Thus far we have looked at while loops in the context of numbers, arithmetic, and counting/cumulation.\n",
        "* Because while loops can consider any condition, they are actually MUCH more powerful in practice."
      ]
    },
    {
      "cell_type": "code",
      "execution_count": null,
      "metadata": {
        "id": "rEDZos_Dt80G",
        "colab": {
          "base_uri": "https://localhost:8080/"
        },
        "outputId": "098142ca-f16a-44e5-8b4c-7ce2bac4f2ac"
      },
      "outputs": [
        {
          "output_type": "stream",
          "name": "stdout",
          "text": [
            "\n",
            "Tell me anything and I will repeat it back to you. Enter 'quit' to end the loop: quit\n",
            "You input the string \"quit\"\n"
          ]
        }
      ],
      "source": [
        "# We can use a while loop to keep receiving input from the user until a specific condition is met.\n",
        "prompt=\"\\nTell me anything and I will repeat it back to you. Enter \\'quit\\' to end the loop: \"\n",
        "userinput = ''\n",
        "while userinput.lower() != 'quit':\n",
        "    userinput = input(prompt)\n",
        "    print('You input the string \\\"' + userinput + '\\\"')"
      ]
    },
    {
      "cell_type": "markdown",
      "metadata": {
        "id": "p8scSYJqt80G"
      },
      "source": [
        "## Programming Flags\n",
        "* A **flag** in programming refers to a boolean (True or False) or bit (1 or 0) variable that signals a special condition or yes/no option\n",
        "* Flags are often used as parameters to command-line programs or scripts.\n",
        "* Flags may also be used to indicate that a program should remain active (flag is True) or is finished (flag is False) with all needed actions/tasks."
      ]
    },
    {
      "cell_type": "code",
      "execution_count": null,
      "metadata": {
        "id": "7Pz38fO-t80H",
        "colab": {
          "base_uri": "https://localhost:8080/",
          "height": 298
        },
        "outputId": "30a6ed83-d670-4a43-d6b1-70562827b07f"
      },
      "outputs": [
        {
          "name": "stdout",
          "output_type": "stream",
          "text": [
            "\n",
            "Give me at most five positive numbers.  I will add their total and print it back to you.  Input a negative value or 0 to stop early: \n",
            "Input a positive number: 5\n",
            "Input a positive number: 5\n",
            "Input a positive number: \n"
          ]
        },
        {
          "output_type": "error",
          "ename": "ValueError",
          "evalue": "invalid literal for int() with base 10: ''",
          "traceback": [
            "\u001b[0;31m---------------------------------------------------------------------------\u001b[0m",
            "\u001b[0;31mValueError\u001b[0m                                Traceback (most recent call last)",
            "\u001b[0;32m<ipython-input-23-2d0a187774eb>\u001b[0m in \u001b[0;36m<cell line: 0>\u001b[0;34m()\u001b[0m\n\u001b[1;32m      6\u001b[0m \u001b[0mprint\u001b[0m\u001b[0;34m(\u001b[0m\u001b[0mprompt\u001b[0m\u001b[0;34m)\u001b[0m\u001b[0;34m\u001b[0m\u001b[0;34m\u001b[0m\u001b[0m\n\u001b[1;32m      7\u001b[0m \u001b[0;32mwhile\u001b[0m \u001b[0;34m(\u001b[0m\u001b[0mactive\u001b[0m\u001b[0;34m)\u001b[0m\u001b[0;34m:\u001b[0m\u001b[0;34m\u001b[0m\u001b[0;34m\u001b[0m\u001b[0m\n\u001b[0;32m----> 8\u001b[0;31m   \u001b[0myournumber\u001b[0m \u001b[0;34m=\u001b[0m \u001b[0mint\u001b[0m\u001b[0;34m(\u001b[0m\u001b[0minput\u001b[0m\u001b[0;34m(\u001b[0m\u001b[0;34m'Input a positive number: '\u001b[0m\u001b[0;34m)\u001b[0m\u001b[0;34m)\u001b[0m\u001b[0;34m\u001b[0m\u001b[0;34m\u001b[0m\u001b[0m\n\u001b[0m\u001b[1;32m      9\u001b[0m   \u001b[0;32mif\u001b[0m \u001b[0myournumber\u001b[0m \u001b[0;34m<=\u001b[0m \u001b[0;36m0\u001b[0m \u001b[0;32mor\u001b[0m \u001b[0mcount\u001b[0m \u001b[0;34m>\u001b[0m \u001b[0;36m4\u001b[0m\u001b[0;34m:\u001b[0m\u001b[0;34m\u001b[0m\u001b[0;34m\u001b[0m\u001b[0m\n\u001b[1;32m     10\u001b[0m     \u001b[0mactive\u001b[0m \u001b[0;34m=\u001b[0m \u001b[0;32mFalse\u001b[0m\u001b[0;34m\u001b[0m\u001b[0;34m\u001b[0m\u001b[0m\n",
            "\u001b[0;31mValueError\u001b[0m: invalid literal for int() with base 10: ''"
          ]
        }
      ],
      "source": [
        "# Add UP to 5 positive numbers input by the user and print the result back to them\n",
        "prompt=\"\\nGive me at most five positive numbers.  I will add their total and print it back to you.  Input a negative value or 0 to stop early: \"\n",
        "active=True # flag\n",
        "total = 0\n",
        "count = 0\n",
        "print(prompt)\n",
        "while (active):\n",
        "  yournumber = int(input('Input a positive number: '))\n",
        "  if yournumber <= 0 or count > 4:\n",
        "    active = False\n",
        "  else:\n",
        "    total = total + yournumber\n",
        "    count = count + 1\n",
        "print(total)"
      ]
    },
    {
      "cell_type": "markdown",
      "metadata": {
        "id": "O_-LBa9Dt80H"
      },
      "source": [
        "## Using break to Exit a Loop\n",
        "* To exit a while loop _early_ without running any remaining code, use the **break** statement.\n",
        "* The break statement may be used to provide a secondary \"way out\" of a loop given an alternative condition\n",
        "* It may also provide a means to safeguard against infinite looping in practice."
      ]
    },
    {
      "cell_type": "code",
      "execution_count": null,
      "metadata": {
        "id": "bXVz4JQMt80H"
      },
      "outputs": [],
      "source": [
        "# We can repeat our previous example of adding together positive numbers using a break statement\n",
        "prompt=\"\\nGive me at most five positive numbers.  I will add their total and print it back to you.  Input a negative value or 0 to stop early: \"\n",
        "active=True # flag\n",
        "total = 0\n",
        "count = 0\n",
        "print(prompt)\n",
        "while (active):\n",
        "  yournumber = int(input('Input a positive number: '))\n",
        "  if yournumber <= 0:\n",
        "    active = False\n",
        "  else:\n",
        "    total = total + yournumber\n",
        "    count = count + 1\n",
        "    if count > 4:\n",
        "      active = False\n",
        "print(total)"
      ]
    },
    {
      "cell_type": "markdown",
      "metadata": {
        "id": "C7evtsXGt80I"
      },
      "source": [
        "## Python Libraries\n",
        "* Python **libraries** provide additional, \"pre-packaged\" code that helps us accomplish crucial tasks in programming\n",
        "* We will make use of several key libraries throughout the semester, including some for plotting graphs, some for data storage, and some for input/output to files.\n",
        "* Our example below imports the _randint_ function from the **random** library, which will let us generate a random whole number within a given range."
      ]
    },
    {
      "cell_type": "code",
      "execution_count": null,
      "metadata": {
        "id": "Q75J8P-Wt80I"
      },
      "outputs": [],
      "source": [
        "# The text immediately following \"from\" indicates the library we are using.\n",
        "# The text immediately following \"import\" indicates which function or other structure we are using in our code\n",
        "from random import randint\n",
        "print(randint(1,100))"
      ]
    },
    {
      "cell_type": "markdown",
      "metadata": {
        "id": "-F7cBMtrt80I"
      },
      "source": [
        "### Practice 4: Guess the number (A Bit Tricky!)\n",
        "* Try to create a guessing game where the user inputs a number between 1 and 10.  If the number matches a randomly generated \"correct\" number, the program will stop and let the user know they had a correct guess.  If the number does not match it will let the user know their number didn't match and prompt them to try again.\n",
        "* The code below should get you started (the first line has the prompt, the second line will generate a random # in the range of 1 to 10, and the third initializes a flag indicating the program is initially active"
      ]
    },
    {
      "cell_type": "code",
      "execution_count": null,
      "metadata": {
        "id": "NdJanAxnt80J"
      },
      "outputs": [],
      "source": []
    },
    {
      "cell_type": "code",
      "execution_count": null,
      "metadata": {
        "id": "MKbeCU0It80J"
      },
      "outputs": [],
      "source": [
        "prompt=\"\\n Guess a number between 1 to 10: \"\n",
        "number= randint(1,10)\n",
        "active= True\n",
        "while(active):\n",
        "  myguess = int(input(prompt))\n",
        "  if myguess == number:\n",
        "    break\n",
        "  else:\n",
        "    print('Your guess is incorrect.  Please try again: ')\n",
        "print('You correctly guessed the number, which was ' + str(number))\n"
      ]
    },
    {
      "cell_type": "markdown",
      "metadata": {
        "id": "0L46fGowt80J"
      },
      "source": [
        "### Practice 4 Revised: Guess the number with directional guidance\n",
        "* We can make our previous guessing game a little bit easier by providing a directional guide in cases where the # is missed (i.e. if their guess is too large, we can let them know as much)"
      ]
    },
    {
      "cell_type": "code",
      "execution_count": null,
      "metadata": {
        "id": "_J0Vrh5Et80J"
      },
      "outputs": [],
      "source": []
    },
    {
      "cell_type": "markdown",
      "metadata": {
        "id": "A6QPLsp7t80K"
      },
      "source": [
        "### Using continue in a Loop\n",
        "- On some occasions we may want to skip back to the BEGINNING of a loop's body rather than immediately breaking out\n",
        "- You can use the **continue** statement to return to the beginning of the loop (specifically, the conditional test).\n",
        "- _continue_ is best used when there is a segment of code in the loop that you may or may not want to skip"
      ]
    },
    {
      "cell_type": "code",
      "execution_count": null,
      "metadata": {
        "id": "AU-qVC3Rt80K"
      },
      "outputs": [],
      "source": [
        "# We can \"skip\" a specific number when counting with a loop using continue\n",
        "counter = -11\n",
        "while counter <10:\n",
        "  counter = counter + 1\n",
        "  if counter == 0:\n",
        "    continue\n",
        "  print(counter, end = ' ')\n"
      ]
    },
    {
      "cell_type": "code",
      "execution_count": null,
      "metadata": {
        "id": "98knSzIHt80L"
      },
      "outputs": [],
      "source": [
        "# We can even \"ignore\" user inputs that don't meet a given criteria without stopping the loop entirely.\n",
        "prompt=\"\\nPlease input a number. If positive, I will add it to a running total.  If negative, I will skip it.  Use 0 to exit. \"\n",
        "active=True # flag\n",
        "total = 0\n",
        "while (active):\n",
        "  yournumber = int(input(prompt))\n",
        "  if yournumber == 0:\n",
        "    active = False\n",
        "  elif yournumber < 0:\n",
        "    continue\n",
        "  else:\n",
        "    total = total + yournumber\n",
        "print('The running total is ' + str(total))"
      ]
    },
    {
      "cell_type": "markdown",
      "metadata": {
        "id": "LEdXQ0Bnt80L"
      },
      "source": [
        "## Practice 5: Movie Tickets\n",
        "Your task here is to simulate a transaction for a party of movie-goers to a theater as follows:<br>\n",
        "The theater charges different ticket prices depending on a person’s age:\n",
        "- If a person is under the age of 3, the ticket is free\n",
        "- if they are between 3 and 12, the ticket is 10 dollars\n",
        "- if they are over the age 12, the ticket is 15 dollars. <br><br>\n",
        "Write a while loop in which you ask a user to the ages of all members of their party , and then tell them the **cumulative cost** of their movie tickets."
      ]
    },
    {
      "cell_type": "code",
      "execution_count": null,
      "metadata": {
        "id": "bQMez0mft80M"
      },
      "outputs": [],
      "source": [
        "prompt = 'Please input a party member\\'s age (Type 0 after all ages have been entered): '\n",
        "total = 0\n",
        "while True:\n",
        "  age = int(input(prompt))\n",
        "  if age == 0:\n",
        "    break\n",
        "  elif age < 3:\n",
        "    price = 0\n",
        "  elif age <= 12:\n",
        "    price = 10\n",
        "  else:\n",
        "    price = 15\n",
        "  total = total + price\n",
        "print('The total price of all the tickets is $' + str(total))"
      ]
    },
    {
      "cell_type": "markdown",
      "metadata": {
        "id": "sLtNP_2Gt80M"
      },
      "source": [
        "## Using a while Loop with Lists\n",
        "* Very often we want to conduct a looping operation or operations on a _collection_ of elements, as opposed to an individual element/variable.\n",
        "* While loops can be used to carry out a series of operations using a list (or possibly _on_ a list).\n",
        "* When using while loops with lists (or other collections), using a counter variable is often a necessity."
      ]
    },
    {
      "cell_type": "code",
      "source": [
        "mygrades = [90, 80, 72, 92]\n",
        "index = 0\n",
        "while index < len(mygrades):\n",
        "    print(mygrades[index])\n",
        "    index = index + 1"
      ],
      "metadata": {
        "id": "cZD1MobRik68"
      },
      "execution_count": null,
      "outputs": []
    },
    {
      "cell_type": "markdown",
      "metadata": {
        "id": "_4ov8Dsqt80M"
      },
      "source": [
        "## Copying Items from One List to Another"
      ]
    },
    {
      "cell_type": "code",
      "execution_count": null,
      "metadata": {
        "id": "YqeNrfs7t80N"
      },
      "outputs": [],
      "source": [
        "mylist1 = ['a', 'b', 'c', 'd', 'e']\n",
        "mylist2 = [1, 2, 3, 4, 5]\n",
        "index = 0\n",
        "while index < len(mylist2):\n",
        "    mylist1.append(mylist2[index])\n",
        "    index = index + 1\n",
        "print(mylist1)"
      ]
    },
    {
      "cell_type": "code",
      "execution_count": null,
      "metadata": {
        "id": "JO_9mlHOt80N"
      },
      "outputs": [],
      "source": [
        "mylist1 = ['a', 'b', 'c', 'd', 'e']\n",
        "mylist2 = [1, 2, 3, 4, 5]\n",
        "mylist1.extend(mylist2)\n",
        "print(mylist1)"
      ]
    },
    {
      "cell_type": "markdown",
      "metadata": {
        "id": "BtV8rIQ9t80N"
      },
      "source": [
        "### Removing All Instances of Specific Values from a List"
      ]
    },
    {
      "cell_type": "code",
      "execution_count": null,
      "metadata": {
        "id": "o8VEqL5pt80O"
      },
      "outputs": [],
      "source": [
        "mywordlist = ['The','time','we','had','together','had','been','the','best','any','had','had.']\n"
      ]
    },
    {
      "cell_type": "code",
      "execution_count": null,
      "metadata": {
        "id": "kL8-QsnGt80O"
      },
      "outputs": [],
      "source": [
        "index = 0\n",
        "while index < len(mywordlist):\n",
        "    if mywordlist[index] == 'had':\n",
        "        mywordlist.remove('had')\n",
        "    index = index + 1\n",
        "print(mywordlist)"
      ]
    },
    {
      "cell_type": "code",
      "source": [
        "index = len(mywordlist) - 1\n",
        "while index >= 0:\n",
        "    if mywordlist[index] == 'had':\n",
        "        del(mywordlist[index])\n",
        "    index = index - 1\n",
        "print(mywordlist)"
      ],
      "metadata": {
        "id": "q47nocC_khcc"
      },
      "execution_count": null,
      "outputs": []
    },
    {
      "cell_type": "markdown",
      "metadata": {
        "id": "g1kigHOht80P"
      },
      "source": [
        "## Revisiting While Loops and Calculations\n",
        "* Previously we saw the use of counter/cumulator variables in performing calculations on collections of numbers.\n",
        "* We can alternatively build a list based on user input using a while loop and then perform calculations afterwards."
      ]
    },
    {
      "cell_type": "code",
      "execution_count": null,
      "metadata": {
        "id": "i2ag7bMWt80P"
      },
      "outputs": [],
      "source": [
        "prompt=\"\\nPlease input a series of non-zero numbers. I will tell you their sum, mean, and how many #s you gave me: \"\n",
        "active=True # flag\n",
        "listofnums = []\n",
        "while (active):\n",
        "  yournumber = int(input(prompt))\n",
        "  if yournumber == 0:\n",
        "    active = False\n",
        "  else:\n",
        "    listofnums.append(yournumber)\n",
        "total = sum(listofnums)\n",
        "mean = sum(listofnums)/len(listofnums)\n",
        "print('The sum of all the numbers you gave me is ' + sum)\n",
        "print('The mean of all the numbers you gave me is ' + str(mean))"
      ]
    },
    {
      "cell_type": "markdown",
      "metadata": {
        "id": "Q5exBANjt80P"
      },
      "source": [
        "# `for` Statement\n",
        "* In Python, a principal alternative to the while loop is the **for** loop\n",
        "* Unlike the while loop, which relies on a _condition_ for starting and stopping, the for loop applies its actions for _each item_ within an **iterable collection**.\n",
        "* An iterable collection is any data type involving a group of elements with positional order (examples we have seen of these so far are lists and strings.)"
      ]
    },
    {
      "cell_type": "code",
      "execution_count": 1,
      "metadata": {
        "id": "OSv6_LIZt80P",
        "colab": {
          "base_uri": "https://localhost:8080/"
        },
        "outputId": "5f0d3053-4724-4578-e023-70bfbb4dde6d"
      },
      "outputs": [
        {
          "output_type": "stream",
          "name": "stdout",
          "text": [
            "1\n",
            "4\n",
            "9\n",
            "16\n",
            "25\n"
          ]
        }
      ],
      "source": [
        "mynumlist = [1, 4, 9, 16, 25]\n",
        "for mynumber in mynumlist:\n",
        "    print(mynumber)"
      ]
    },
    {
      "cell_type": "code",
      "execution_count": 2,
      "metadata": {
        "id": "lt-1mwget80P",
        "colab": {
          "base_uri": "https://localhost:8080/"
        },
        "outputId": "85b02cba-6aa6-406b-9704-2d095ccca96e"
      },
      "outputs": [
        {
          "output_type": "stream",
          "name": "stdout",
          "text": [
            "P\n",
            "y\n",
            "t\n",
            "h\n",
            "o\n",
            "n\n"
          ]
        }
      ],
      "source": [
        "mystr = 'Python'\n",
        "for mychar in mystr:\n",
        "    print(mychar)"
      ]
    },
    {
      "cell_type": "markdown",
      "metadata": {
        "id": "JVIyKQOLt80P"
      },
      "source": [
        "### Examining the cell above\n",
        "* Upon entering the `for` loop, Python assigns the 'P' in 'Python' to the **target variable** between keywords `for` and `in`.\n",
        "* After executing the suite, Python assigns to character the next item in the sequence (that is, the '`y`' in '`Python`'), then executes the suite again.\n",
        "* This continues so long as there are more items in the sequence."
      ]
    },
    {
      "cell_type": "code",
      "execution_count": 3,
      "metadata": {
        "id": "CyAlNKt5t80P",
        "colab": {
          "base_uri": "https://localhost:8080/"
        },
        "outputId": "34896e93-e972-4271-fdc3-cc18d325d640"
      },
      "outputs": [
        {
          "output_type": "stream",
          "name": "stdout",
          "text": [
            "2\n",
            "-3\n",
            "0\n",
            "17\n",
            "9\n"
          ]
        }
      ],
      "source": [
        "#We can also use for loops with variables to cumulate values just as we saw with while loops:\n",
        "for number in [2, -3, 0, 17, 9]:\n",
        "  print(number)"
      ]
    },
    {
      "cell_type": "markdown",
      "metadata": {
        "id": "JtE3XC6Ht80Q"
      },
      "source": [
        "### Small Tangent: Function `print`’s `end` Keyword Argument\n",
        "* `print` displays its argument(s), then moves the cursor to the next line.\n",
        "* Can change this behavior with the argument `end`:\n",
        ">```python\n",
        "print(character, end='  ')\n",
        "```\n",
        "* `end` is a **keyword argument**, but it's not a Python keyword.\n",
        "* The _Style Guide for Python Code_ recommends placing no spaces around a keyword argument’s =.\n",
        "* Keyword arguments are sometimes called named arguments."
      ]
    },
    {
      "cell_type": "code",
      "execution_count": null,
      "metadata": {
        "id": "iudCyT-6t80Q"
      },
      "outputs": [],
      "source": [
        "mystr = 'Python'"
      ]
    },
    {
      "cell_type": "markdown",
      "metadata": {
        "id": "Q8XN56-Dt80R"
      },
      "source": [
        "### Function `print`’s `sep` Keyword Argument\n",
        "* Keyword argument `sep` (short for separator) specifies the string that appears between the items that print displays.\n",
        "* A space character by default.\n",
        "* To remove the spaces, use an empty string with no characters between its quotes."
      ]
    },
    {
      "cell_type": "code",
      "execution_count": null,
      "metadata": {
        "id": "SUJTWHr0t80R"
      },
      "outputs": [],
      "source": [
        "print(10, 20, 30, sep='; ')"
      ]
    },
    {
      "cell_type": "markdown",
      "metadata": {
        "id": "KkoxbbWgt80S"
      },
      "source": [
        "Let's use  both _while_ and _for_loops to write code to print the letters of the phrase 'Jupyter Notebook' backwards in a single line\n"
      ]
    },
    {
      "cell_type": "markdown",
      "metadata": {
        "id": "t8KxQlMbt80S"
      },
      "source": [
        "## Practice 6: Working with a List of Strings and Loops\n",
        "Your task here is to consider the list named **commands** below, and create both i. _for loop_ and ii. _while loop_ (i.e. you'll be doing this task twice in total) to do the following:\n",
        "i. Count the cumulative total number of characters across _all_ individual words in the list\n",
        "ii. Count the number of times the word 'stop' occurs within the list.\n",
        "iii. Count the total number of _every_ four-letter word within the list."
      ]
    },
    {
      "cell_type": "code",
      "execution_count": 4,
      "metadata": {
        "id": "BKhZ5nNJt80T"
      },
      "outputs": [],
      "source": [
        "commands = ['begin','stop','left','forward','forward','stop','right','back','back','stop','right','forward','stop','end']"
      ]
    },
    {
      "cell_type": "code",
      "execution_count": 5,
      "metadata": {
        "id": "qmkS1Wemt80T",
        "colab": {
          "base_uri": "https://localhost:8080/"
        },
        "outputId": "ad5f1ef8-618a-4bbb-92f8-088d3f882c6f"
      },
      "outputs": [
        {
          "output_type": "stream",
          "name": "stdout",
          "text": [
            "67\n"
          ]
        }
      ],
      "source": [
        "totalchars = 0\n",
        "listind = 0\n",
        "while listind < len(commands):\n",
        "  totalchars = totalchars + len(commands[listind])\n",
        "  listind = listind + 1\n",
        "print(totalchars)"
      ]
    },
    {
      "cell_type": "code",
      "execution_count": 6,
      "metadata": {
        "id": "1q1wQ9aZt80T",
        "colab": {
          "base_uri": "https://localhost:8080/"
        },
        "outputId": "f6d2c6ca-bb7d-451c-f11a-8d79d0a3a126"
      },
      "outputs": [
        {
          "output_type": "stream",
          "name": "stdout",
          "text": [
            "67\n"
          ]
        }
      ],
      "source": [
        "totalchars = 0\n",
        "listind = 0\n",
        "for word in commands:\n",
        "  totalchars = totalchars + len(word)\n",
        "print(totalchars)"
      ]
    },
    {
      "cell_type": "markdown",
      "metadata": {
        "id": "Q_NzSc-Ht80U"
      },
      "source": [
        "## Built-In `range` Function and Generators\n",
        "* Creates an iterable object that represents a sequence of consecutive integer values starting from 0 and continuing up to, but **not including**, the argument value.\n",
        "* range may used in place of lists with for loops when elements are sequentially ordered\n",
        "* range may also be used in _creating_ a list using the keyword **list**."
      ]
    },
    {
      "cell_type": "code",
      "source": [
        "print(list(range(4)))"
      ],
      "metadata": {
        "colab": {
          "base_uri": "https://localhost:8080/"
        },
        "id": "9rZ5CRsd6sfW",
        "outputId": "abebf26e-c372-4cb2-febe-3c13f60da60b"
      },
      "execution_count": 7,
      "outputs": [
        {
          "output_type": "stream",
          "name": "stdout",
          "text": [
            "[0, 1, 2, 3]\n"
          ]
        }
      ]
    },
    {
      "cell_type": "code",
      "execution_count": 8,
      "metadata": {
        "id": "Zby7KmZet80U",
        "colab": {
          "base_uri": "https://localhost:8080/"
        },
        "outputId": "b08e35f6-6582-4203-aa31-972ca07db255"
      },
      "outputs": [
        {
          "output_type": "stream",
          "name": "stdout",
          "text": [
            "0 1 2 3 4 "
          ]
        }
      ],
      "source": [
        "for counter in range(5):\n",
        "  print(counter, end = ' ')"
      ]
    },
    {
      "cell_type": "code",
      "execution_count": null,
      "metadata": {
        "id": "47ZAekK2t80U"
      },
      "outputs": [],
      "source": [
        "mylistto9 = list(range(10))"
      ]
    },
    {
      "cell_type": "markdown",
      "metadata": {
        "id": "47dHaSXBt80U"
      },
      "source": [
        "### Off-By-One Errors\n",
        "A logic error known as an off-by-one error occurs when you assume that `range`’s argument value is included in the generated sequence.\n"
      ]
    },
    {
      "cell_type": "code",
      "execution_count": 9,
      "metadata": {
        "id": "ds56Sz7Ft80V",
        "colab": {
          "base_uri": "https://localhost:8080/"
        },
        "outputId": "6864acf7-7569-46ff-cd57-d00eb3cb18ca"
      },
      "outputs": [
        {
          "output_type": "stream",
          "name": "stdout",
          "text": [
            "0 1 2 3 4 "
          ]
        }
      ],
      "source": [
        "for counter in range(5):\n",
        "  print(counter, end = ' ')"
      ]
    },
    {
      "cell_type": "markdown",
      "metadata": {
        "id": "xvhrH7vgt80V"
      },
      "source": [
        "## Function `range` and 2 arguments\n",
        "* Function `range`’s two-argument version produces a sequence of consecutive integers from its first argument’s value up to, but not including, the second argument’s value\n",
        "* This is useful when we have specific _starting point_ and _stopping point_"
      ]
    },
    {
      "cell_type": "code",
      "execution_count": 11,
      "metadata": {
        "id": "992oQjJDt80V",
        "colab": {
          "base_uri": "https://localhost:8080/"
        },
        "outputId": "f960a897-7044-4957-c1d9-03759b9e95da"
      },
      "outputs": [
        {
          "output_type": "stream",
          "name": "stdout",
          "text": [
            "5 6 7 8 9 "
          ]
        }
      ],
      "source": [
        "for number in range(5, 10):\n",
        "  print(number, end = ' ')"
      ]
    },
    {
      "cell_type": "code",
      "execution_count": 14,
      "metadata": {
        "id": "SHuLQpURt80V",
        "colab": {
          "base_uri": "https://localhost:8080/"
        },
        "outputId": "ffed7fc7-943f-4a7c-e222-6421f3784446"
      },
      "outputs": [
        {
          "output_type": "stream",
          "name": "stdout",
          "text": [
            "[10, 11, 12, 13, 14, 15, 16, 17, 18, 19, 20, 21, 22, 23, 24, 25, 26, 27, 28, 29, 30, 31, 32, 33, 34, 35, 36, 37, 38, 39, 40, 41, 42, 43, 44, 45, 46, 47, 48, 49, 50, 51, 52, 53, 54, 55, 56, 57, 58, 59, 60, 61, 62, 63, 64, 65, 66, 67, 68, 69, 70, 71, 72, 73, 74, 75, 76, 77, 78, 79, 80, 81, 82, 83, 84, 85, 86, 87, 88, 89, 90, 91, 92, 93, 94, 95, 96, 97, 98, 99]\n"
          ]
        }
      ],
      "source": [
        "mylist2digits = list(range(10,100))\n",
        "print(mylist2digits)"
      ]
    },
    {
      "cell_type": "markdown",
      "metadata": {
        "id": "tbSVIgo4t80V"
      },
      "source": [
        "## Function `range` and 3 arguments\n",
        "* Function `range`’s three-argument version produces a sequence of integers from its first argument’s value up to, but not including, the second argument’s value, _incrementing_ by the third argument’s value (the step from one element to the next)\n",
        "* If the third argument is negative, the sequence progresses from the first argument’s value down to, but not including the second argument’s value, decrementing by the third argument’s value"
      ]
    },
    {
      "cell_type": "code",
      "execution_count": 15,
      "metadata": {
        "id": "W6mr4qfct80W",
        "colab": {
          "base_uri": "https://localhost:8080/"
        },
        "outputId": "e8ff09b3-18fe-4470-cd4f-4d2a99c286f6"
      },
      "outputs": [
        {
          "output_type": "stream",
          "name": "stdout",
          "text": [
            "0\n",
            "2\n",
            "4\n",
            "6\n",
            "8\n",
            "10\n",
            "12\n",
            "14\n",
            "16\n",
            "18\n"
          ]
        }
      ],
      "source": [
        "for number in range(0, 20, 2):\n",
        "  print(number)"
      ]
    },
    {
      "cell_type": "code",
      "execution_count": 16,
      "metadata": {
        "id": "P4k2nX4ft80W",
        "colab": {
          "base_uri": "https://localhost:8080/"
        },
        "outputId": "d3cbc5b9-2bca-4957-bd08-790fc3687a1d"
      },
      "outputs": [
        {
          "output_type": "stream",
          "name": "stdout",
          "text": [
            "10\n",
            "8\n",
            "6\n",
            "4\n",
            "2\n"
          ]
        }
      ],
      "source": [
        "for number in range(10, 0, -2):\n",
        "  print(number)"
      ]
    },
    {
      "cell_type": "markdown",
      "metadata": {
        "id": "QJsR29t4t80W"
      },
      "source": [
        "## Embedded Loops\n",
        "Just as we saw the use of nested conditional statements (i.e. \"if within an if\"), we can do similar things by embedding loops."
      ]
    },
    {
      "cell_type": "code",
      "execution_count": null,
      "metadata": {
        "id": "7GIIHeNut80X"
      },
      "outputs": [],
      "source": [
        "#Ex: We can create a makeshift times table using two loops: the \"outer\" loop will control rows of the table, while the \"inner\"\n",
        "#loop will control columns\n"
      ]
    },
    {
      "cell_type": "markdown",
      "metadata": {
        "id": "RGJuxZSdt80X"
      },
      "source": [
        "## Practice 7: Working with Ranges and Loops\n",
        "Using _range_ and _for_ loops, you are to produce the following lists. <br>\n",
        "i. A list of the first 20 squares starting at 1 (i.e. [1, 4, 9, 16, 25] <br>\n",
        "ii. A list of all numbers between 1 and 20 that are **prime** <br>\n",
        "Note that (ii) is tricky, but can be made pretty manageable through the use of a conditional check inside an embedded loop"
      ]
    },
    {
      "cell_type": "code",
      "execution_count": null,
      "metadata": {
        "id": "oLDu1qvbt80X"
      },
      "outputs": [],
      "source": []
    }
  ],
  "metadata": {
    "celltoolbar": "Slideshow",
    "kernelspec": {
      "display_name": "Python 3 (ipykernel)",
      "language": "python",
      "name": "python3"
    },
    "language_info": {
      "codemirror_mode": {
        "name": "ipython",
        "version": 3
      },
      "file_extension": ".py",
      "mimetype": "text/x-python",
      "name": "python",
      "nbconvert_exporter": "python",
      "pygments_lexer": "ipython3",
      "version": "3.9.16"
    },
    "colab": {
      "provenance": [],
      "include_colab_link": true
    }
  },
  "nbformat": 4,
  "nbformat_minor": 0
}